{
  "nbformat": 4,
  "nbformat_minor": 0,
  "metadata": {
    "colab": {
      "provenance": []
    },
    "kernelspec": {
      "name": "python3",
      "display_name": "Python 3"
    },
    "language_info": {
      "name": "python"
    }
  },
  "cells": [
    {
      "cell_type": "markdown",
      "source": [
        "Presented By: Team 2 - Aastha Surana, Jooyeon Lee, Zicheng Wang"
      ],
      "metadata": {
        "id": "Ec0TOO4eHcMs"
      }
    },
    {
      "cell_type": "markdown",
      "source": [
        "# Starbucks Coffee Optimization – Full Model & Sensitivity Analysis\n",
        "### BA885 – Phase II (Summer 2025)\n",
        "\n",
        "---\n",
        "\n"
      ],
      "metadata": {
        "id": "tfByUcJmHZmo"
      }
    },
    {
      "cell_type": "markdown",
      "source": [
        "# Problem Statement\n",
        "\n",
        "Starbucks is under growing cost pressure as Arabica coffee prices hit a 47-year high of $4.40/lb in 2024, driven by global supply shortages and climate disruptions in key producing countries such as Brazil and Colombia.\n",
        "(Source: [Bloomberg – Coffee Prices Soar as Climate Hits Brazil’s Arabica Supply](https://www.bloomberg.com/news/articles/2024-05-10/coffee-prices-soar-as-climate-hits-brazil-s-arabica-supply))\n",
        "\n",
        "At the same time, over 75% of Starbucks’ beverage sales are now cold drinks, a major shift from its traditional hot coffee base. These cold beverages—primarily iced lattes, cold brews, and refreshers—tend to be less sensitive to bean origin and quality, as they are often diluted with milk, sweeteners, or ice, making taste differences less perceptible.\n",
        "\n",
        "Starbucks has historically maintained a 100% Arabica policy, positioning itself as a premium coffee provider. However, the shift in consumer behavior toward cold drinks, especially among younger demographics, presents a strategic opportunity:\n",
        "\n",
        "**What if Starbucks introduced Robusta beans for drinks, while preserving quality of beverages?**\n",
        "\n",
        "Robusta beans offer several strategic advantages. They are 40–60% cheaper than Arabica, with current prices averaging $2.00–$2.50 per pound.\n",
        "They also contain more caffeine and deliver a bolder flavor, making them well-suited for cold beverages that are mixed with milk or sweeteners.\n",
        "In addition, Robusta is more climate-resilient, requiring less altitude and water, and is generally more productive per hectare than Arabica.\n",
        "\n",
        "This shift could allow Starbucks to reduce costs, diversify sourcing, improve environmental sustainability, and better align its supply chain with the demands of its fastest-growing product segment.\n",
        "\n"
      ],
      "metadata": {
        "id": "F1hxzhcSyNbg"
      }
    },
    {
      "cell_type": "markdown",
      "source": [
        "# Objective\n",
        "\n",
        "Minimize the total system cost of producing 100M+ beverages while satisfying Starbucks’ brand quality and operational constraints.  \n",
        "We model the optimal blending of Arabica and Robusta across hot and cold drinks, considering:\n",
        "\n",
        "- Bean sourcing costs\n",
        "- Roasting preferences\n",
        "- Caffeine levels\n",
        "- Storage and transportation\n"
      ],
      "metadata": {
        "id": "8Syy5hczbrTT"
      }
    },
    {
      "cell_type": "markdown",
      "source": [
        "# LP model Analysis"
      ],
      "metadata": {
        "id": "PkPdhMSkxwIy"
      }
    },
    {
      "cell_type": "markdown",
      "source": [
        "### **Step 0: Install Gurobi Solver**"
      ],
      "metadata": {
        "id": "s0nnYwr8yj51"
      }
    },
    {
      "cell_type": "code",
      "source": [
        "pip install gurobipy"
      ],
      "metadata": {
        "colab": {
          "base_uri": "https://localhost:8080/"
        },
        "id": "IHuuGIuTeeXE",
        "outputId": "83056de7-1de5-4b00-9a50-084efc773bc3"
      },
      "execution_count": null,
      "outputs": [
        {
          "output_type": "stream",
          "name": "stdout",
          "text": [
            "Requirement already satisfied: gurobipy in /usr/local/lib/python3.11/dist-packages (12.0.2)\n"
          ]
        }
      ]
    },
    {
      "cell_type": "code",
      "source": [
        "!pip install -i https://pypi.gurobi.com gurobipy"
      ],
      "metadata": {
        "colab": {
          "base_uri": "https://localhost:8080/"
        },
        "id": "2GKZqTjnuhtj",
        "outputId": "6c6dd7fa-daac-4be2-bbbb-7ec847506f7c"
      },
      "execution_count": null,
      "outputs": [
        {
          "output_type": "stream",
          "name": "stdout",
          "text": [
            "Looking in indexes: https://pypi.gurobi.com\n",
            "Requirement already satisfied: gurobipy in /usr/local/lib/python3.11/dist-packages (12.0.2)\n"
          ]
        }
      ]
    },
    {
      "cell_type": "markdown",
      "source": [
        "### **Step 1: Import Necessary Libraries**"
      ],
      "metadata": {
        "id": "qfWlj6CoyoJs"
      }
    },
    {
      "cell_type": "code",
      "source": [
        "from gurobipy import Model, GRB"
      ],
      "metadata": {
        "id": "bg_usfoQyo76"
      },
      "execution_count": null,
      "outputs": []
    },
    {
      "cell_type": "markdown",
      "source": [
        "### **Step 2: Define Data and Parameters for Starbucks Optimization**"
      ],
      "metadata": {
        "id": "YMgaEDi4y_S_"
      }
    },
    {
      "cell_type": "markdown",
      "source": [
        "**2.1 Coffee-Bean Purchase Costs ($/lb)**\n",
        "\n",
        "Arabica beans are significantly more expensive, motivating the evaluation of introducing Robusta beans in certain beverages.\n",
        "\n",
        "**Current Arabica bean price:** $4.40/lb (Source: [Perfect Daily Grind, Coffee News Recap – Feb 2025](https://perfectdailygrind.com/2025/02/coffee-news-recap-21-february-2025/))\n",
        "\n",
        "**Current Robusta bean price:** $2.40/lb (Source: [YCharts, Coffee Robusta Price](https://perfectdailygrind.com/2025/02/coffee-news-recap-21-february-2025/))"
      ],
      "metadata": {
        "id": "X4kYLa68zIp7"
      }
    },
    {
      "cell_type": "code",
      "source": [
        "cost_green = {\n",
        "    \"Arabica\": 4.40,  # Current Arabica bean price\n",
        "    \"Robusta\": 2.40   # Current Robusta bean price\n",
        "}"
      ],
      "metadata": {
        "id": "2-bUhc2DzKWt"
      },
      "execution_count": null,
      "outputs": []
    },
    {
      "cell_type": "markdown",
      "source": [
        "**2.2 Roasting Costs ($/lb roasted)**\n",
        "\n",
        "Roasting costs differ by roast level due to variations in roasting time and energy requirements. Specific costs per roast type are industry standard assumptions.\n",
        "\n",
        "**Blonde Roast:** $4.00/lb (industry estimate assumption, lighter roast costs slightly lower)\n",
        "\n",
        "**Medium Roast:** $4.50/lb (industry estimate assumption)\n",
        "\n",
        "**Dark Roast:** $5.00/lb (industry estimate assumption, higher cost due to longer roasting times)"
      ],
      "metadata": {
        "id": "y522wHuzzStF"
      }
    },
    {
      "cell_type": "code",
      "source": [
        "cost_roast = {\n",
        "    \"Blonde\": 4.00,   # Blonde roast\n",
        "    \"Medium\": 4.50,   # Medium roast\n",
        "    \"Dark\":   5.00    # Dark roast\n",
        "}"
      ],
      "metadata": {
        "id": "i3UbkHkGzSa5"
      },
      "execution_count": null,
      "outputs": []
    },
    {
      "cell_type": "markdown",
      "source": [
        "**2.3 Storage & Transport Costs**\n",
        "\n",
        "Efficient logistics significantly impact total system costs. These costs are derived from U.S. transportation data and storage industry benchmarks.\n",
        "\n",
        "**Storage cost:** $0.50 per pound (industry estimate assumption)\n",
        "\n",
        "\n",
        "**Transport cost per ton-mile:**\n",
        "\n",
        "- Land: $0.03 (Source: [Bureau of Transportation Statistics](https://www.bts.gov/content/average-freight-revenue-ton-mile))\n",
        "\n",
        "- Ocean: $0.01 (Source: [Bureau of Transportation Statistics](https://www.bts.gov/content/average-freight-revenue-ton-mile))\n",
        "\n",
        "- Air: $4.60, significantly higher cost due to air freight premium(Source: [Bureau of Transportation Statistics](https://www.bts.gov/content/average-freight-revenue-ton-mile))\n",
        "\n",
        "**Conversion factor:** 1 ton = 2000 lbs (standard conversion)"
      ],
      "metadata": {
        "id": "rHECR4elzbrV"
      }
    },
    {
      "cell_type": "code",
      "source": [
        "cost_storage_per_lb = 0.50  # Estimated storage cost per pound (industry estimate)\n",
        "\n",
        "cost_transport_per_ton_mile = {\n",
        "    \"Land\":  0.03,\n",
        "    \"Ocean\": 0.01,\n",
        "    \"Air\":   4.60\n",
        "}\n",
        "TON_TO_LB = 2000  # Conversion factor (2000 lbs = 1 ton)"
      ],
      "metadata": {
        "id": "N4YkCJ8kzfMT"
      },
      "execution_count": null,
      "outputs": []
    },
    {
      "cell_type": "markdown",
      "source": [
        "**2.4 Annual Beverage Demand (cups → lbs)**\n",
        "\n",
        "Total beverage demand is calculated based on Starbucks annual beverage sales and typical industry consumption patterns.\n",
        "\n",
        "**Total annual cups:** 100,000,000 (Source: [Starbucks FY24 Annual Report](https://s203.q4cdn.com/326826266/files/doc_financials/2024/ar/Starbucks-Fiscal-2024-Annual-Report.pdf))\n",
        "\n",
        "**Cold beverages proportion:** 75% of total beverages (Source: [QSR Magazine](https://www.qsrmagazine.com/food/beverage/cold-drinks-now-represent-75-percent-of-starbucks-sales/ ))\n",
        "\n",
        "**Average coffee weight per cup:** 0.022 lbs per cup (Source: [Specialty Coffee Association](https://www.coffeefriend.co.uk/blog/how-much-ground-coffee-to-use-per-cup/?utm_source=chatgpt.com))"
      ],
      "metadata": {
        "id": "l4GwTWIyzhZ_"
      }
    },
    {
      "cell_type": "code",
      "source": [
        "cups_per_year   = 100_000_000        # Starbucks annual beverage sales (source: Starbucks Annual Report 2024)\n",
        "pct_cold        = 0.75               # 75% of Starbucks U.S. sales are cold beverages (source: QSR Magazine)\n",
        "avg_lbs_per_cup = 0.022              # Average weight of coffee beans per cup (industry standard assumption)\n",
        "\n",
        "total_lbs = cups_per_year * avg_lbs_per_cup\n",
        "hot_lbs   = total_lbs * (1 - pct_cold)\n",
        "cold_lbs  = total_lbs * pct_cold"
      ],
      "metadata": {
        "id": "DWfPNz9A0FZI"
      },
      "execution_count": null,
      "outputs": []
    },
    {
      "cell_type": "markdown",
      "source": [
        "**2.5 Roast-Type Constraints**\n",
        "\n",
        "These constraints ensure product variety and meet consumer preferences.\n",
        "\n",
        "**Blonde roast maximum proportion:** 30% (Source: [Business Insider](https://www.businessinsider.com/starbucks-blonde-is-popular-2012-3))\n",
        "\n",
        "**Minimum proportion per roast type (Blonde, Medium, Dark):** 10% each (operational assumption)"
      ],
      "metadata": {
        "id": "ZbgTlIxdH0kY"
      }
    },
    {
      "cell_type": "code",
      "source": [
        "max_blonde_pct   = 0.30\n",
        "min_roast_pct    = 0.10"
      ],
      "metadata": {
        "id": "hcGOtPSvH88D"
      },
      "execution_count": null,
      "outputs": []
    },
    {
      "cell_type": "markdown",
      "source": [
        "**2.6 Quality Thresholds for Beverages**\n",
        "\n",
        "To preserve Starbucks’ brand quality, specific thresholds for Arabica content in beverages are set.\n",
        "\n",
        "**Hot beverages:** Minimum 85% Arabica (operational and branding assumption)\n",
        "\n",
        "**Cold beverages:** Maximum 50% Arabica (strategic assumption for cost reduction)"
      ],
      "metadata": {
        "id": "tEupBWVYH2DW"
      }
    },
    {
      "cell_type": "code",
      "source": [
        "min_arabica_hot  = 0.85\n",
        "max_arabica_cold = 0.50"
      ],
      "metadata": {
        "id": "8Mw7ZQ33IMnH"
      },
      "execution_count": null,
      "outputs": []
    },
    {
      "cell_type": "markdown",
      "source": [
        "**2.7 Origin Sourcing Limits (Arabica Beans)**\n",
        "\n",
        "To mitigate supply chain risks, Starbucks limits the proportion of beans sourced from a single origin.\n",
        "\n",
        "**Origins considered:** Brazil, Colombia, Ethiopia, Vietnam (Source: [Supply Chain Xchange](https://www.thescxchange.com/article/starbucks-supply-chain))\n",
        "\n",
        "**Maximum sourcing from any single origin:** 40% (Source: [Starbucks FY24 Annual Report](https://s203.q4cdn.com/326826266/files/doc_financials/2024/ar/Starbucks-Fiscal-2024-Annual-Report.pdf))"
      ],
      "metadata": {
        "id": "0y11TuHjH30J"
      }
    },
    {
      "cell_type": "code",
      "source": [
        "origins        = [\"Brazil\", \"Colombia\", \"Ethiopia\", \"Vietnam\"]\n",
        "max_origin_pct = 0.40"
      ],
      "metadata": {
        "id": "VRvN6oRTIReF"
      },
      "execution_count": null,
      "outputs": []
    },
    {
      "cell_type": "markdown",
      "source": [
        "**2.8 Storage & Transport Budget Constraints**\n",
        "\n",
        "Budget constraints based on operational capacity and financial planning:\n",
        "\n",
        "**Maximum storage capacity:** 20,000,000 lbs (Source: [Starbucks FY24 Annual Report](https://s203.q4cdn.com/326826266/files/doc_financials/2024/ar/Starbucks-Fiscal-2024-Annual-Report.pdf))\n",
        "\n",
        "**Maximum annual transport budget:** $300,000,000 (operational assumption based on industry logistics benchmarks)"
      ],
      "metadata": {
        "id": "d4VFX28XH5Ql"
      }
    },
    {
      "cell_type": "code",
      "source": [
        "max_storage_lbs    = 20_000_000\n",
        "max_transport_cost = 300_000_000"
      ],
      "metadata": {
        "id": "oxpHujlwIruS"
      },
      "execution_count": null,
      "outputs": []
    },
    {
      "cell_type": "markdown",
      "source": [
        "### **Step 3: Model Setup**\n",
        "\n",
        "We initialize a Gurobi model named \"Starbucks_Blending\". This model will help us determine the most cost-effective sourcing, roasting, and distribution plan that satisfies all business and operational constraints."
      ],
      "metadata": {
        "id": "BHLyUu-vJCB1"
      }
    },
    {
      "cell_type": "code",
      "source": [
        "# 3) MODEL SETUP\n",
        "m = Model(\"Starbucks_Blending\")\n",
        "m.Params.OutputFlag = 0   # suppress solver output"
      ],
      "metadata": {
        "id": "Wa9jBXIKuxeZ"
      },
      "execution_count": null,
      "outputs": []
    },
    {
      "cell_type": "markdown",
      "source": [
        "### **Step 4: Decision Variables**\n",
        "\n",
        "This section defines the decision variables of the optimization model. Each variable represents a key operational quantity in Starbucks' supply chain and production planning. All variables are in pounds (lbs) and constrained to be non-negative."
      ],
      "metadata": {
        "id": "rNjiM-TjMAd-"
      }
    },
    {
      "cell_type": "markdown",
      "source": [
        "**4.1 Green-Bean Sourcing**\n",
        "\n",
        "We decide how many pounds of Arabica and Robusta green coffee beans to purchase.\n",
        "Arabica is preferred for quality but is more expensive, while Robusta is cheaper and more suitable for cold beverages or blends."
      ],
      "metadata": {
        "id": "LEkdLmyUMSk0"
      }
    },
    {
      "cell_type": "code",
      "source": [
        "aarabica = m.addVar(name=\"aarabica\", lb=0)   # Total lbs of Arabica beans to purchase\n",
        "arobusta = m.addVar(name=\"arobusta\", lb=0)   # Total lbs of Robusta beans to purchase"
      ],
      "metadata": {
        "id": "FEYe5XWtMVeM"
      },
      "execution_count": null,
      "outputs": []
    },
    {
      "cell_type": "code",
      "source": [
        "# Arabica and Robusta used in each beverage type\n",
        "arabica_hot  = m.addVar(name=\"arabica_hot\",  lb=0)\n",
        "robusta_hot  = m.addVar(name=\"robusta_hot\",  lb=0)\n",
        "arabica_cold = m.addVar(name=\"arabica_cold\", lb=0)\n",
        "robusta_cold = m.addVar(name=\"robusta_cold\", lb=0)\n"
      ],
      "metadata": {
        "id": "OGAodLgLj11o"
      },
      "execution_count": null,
      "outputs": []
    },
    {
      "cell_type": "markdown",
      "source": [
        "**4.2 Roasted Coffee by Roast Type**\n",
        "\n",
        "We track how much of each roast type we produce after roasting the green beans. These will be blended into beverages."
      ],
      "metadata": {
        "id": "vWXrRnSkMXzt"
      }
    },
    {
      "cell_type": "code",
      "source": [
        "r_blonde = m.addVar(name=\"r_blonde\", lb=0)   # Blonde roast output\n",
        "r_medium = m.addVar(name=\"r_medium\", lb=0)   # Medium roast output\n",
        "r_dark   = m.addVar(name=\"r_dark\",   lb=0)   # Dark roast output"
      ],
      "metadata": {
        "id": "xCwgIMZeMZPG"
      },
      "execution_count": null,
      "outputs": []
    },
    {
      "cell_type": "markdown",
      "source": [
        "**4.3 Beverage Usage (Hot vs Cold)**\n",
        "\n",
        "The model distinguishes between hot and cold beverage volumes. This distinction is important because quality and blend standards differ across them."
      ],
      "metadata": {
        "id": "fSnpvvq-Mcr9"
      }
    },
    {
      "cell_type": "code",
      "source": [
        "h = m.addVar(name=\"hot_lbs\",  lb=0)   # Coffee used in hot beverages\n",
        "c = m.addVar(name=\"cold_lbs\", lb=0)   # Coffee used in cold beverages"
      ],
      "metadata": {
        "id": "-BHgbKW-MfA3"
      },
      "execution_count": null,
      "outputs": []
    },
    {
      "cell_type": "markdown",
      "source": [
        "**4.4 Caffeine Levels**\n",
        "\n",
        "To serve a diverse customer base, we must split coffee volume into three caffeine-level categories."
      ],
      "metadata": {
        "id": "yMfP1pj5MjdT"
      }
    },
    {
      "cell_type": "code",
      "source": [
        "c1 = m.addVar(name=\"caf_lbs\",    lb=0)  # Fully caffeinated\n",
        "c2 = m.addVar(name=\"lowcaf_lbs\", lb=0)  # Low caffeine\n",
        "c3 = m.addVar(name=\"decaf_lbs\",  lb=0)  # Decaffeinated"
      ],
      "metadata": {
        "id": "6LnzVsiaMk28"
      },
      "execution_count": null,
      "outputs": []
    },
    {
      "cell_type": "markdown",
      "source": [
        "**4.5 Arabica Sourcing by Country**\n",
        "\n",
        "Arabica must be sourced from specific countries. We track origin-wise sourcing to ensure diversity and manage risk."
      ],
      "metadata": {
        "id": "EGZCGf4eMnzR"
      }
    },
    {
      "cell_type": "code",
      "source": [
        "s = {o: m.addVar(name=f\"s_{o}\", lb=0) for o in origins}"
      ],
      "metadata": {
        "id": "hBSLpDWCMqgk"
      },
      "execution_count": null,
      "outputs": []
    },
    {
      "cell_type": "markdown",
      "source": [
        "Where origins = [\"Brazil\", \"Colombia\", \"Ethiopia\", \"Vietnam\"]"
      ],
      "metadata": {
        "id": "-K0gHGi7MuMy"
      }
    },
    {
      "cell_type": "markdown",
      "source": [
        "**4.6 Roasted Coffee in Storage**\n",
        "\n",
        "A portion of roasted coffee may be stored to meet inventory policies or account for transport delays."
      ],
      "metadata": {
        "id": "467Ynja9MxAh"
      }
    },
    {
      "cell_type": "code",
      "source": [
        "w = m.addVar(name=\"storage_lbs\", lb=0)"
      ],
      "metadata": {
        "id": "S_0-FP5_MymP"
      },
      "execution_count": null,
      "outputs": []
    },
    {
      "cell_type": "markdown",
      "source": [
        "**4.7 Transportation by Mode**\n",
        "\n",
        "We must decide how to allocate transportation volume across land, ocean, and air routes. Each has different costs and implications."
      ],
      "metadata": {
        "id": "5Yt_U0nkM0dV"
      }
    },
    {
      "cell_type": "code",
      "source": [
        "t_land  = m.addVar(name=\"t_land_lbs\",  lb=0)\n",
        "t_ocean = m.addVar(name=\"t_ocean_lbs\", lb=0)\n",
        "t_air   = m.addVar(name=\"t_air_lbs\",   lb=0)"
      ],
      "metadata": {
        "id": "c3wusWJCM1-J"
      },
      "execution_count": null,
      "outputs": []
    },
    {
      "cell_type": "markdown",
      "source": [
        "### **Step 5: Objective Function**\n",
        "\n",
        "The objective of our optimization model is to minimize the total cost of producing and delivering 100 million cups of coffee. The cost components include:\n",
        "\n",
        "1. **Green Bean Sourcing Cost:** We pay per pound for Arabica and Robusta beans.\n",
        "\n",
        "- Arabica: $4.40/lb\n",
        "\n",
        "- Robusta: $2.40/lb\n",
        "\n",
        "- Roasting Cost\n",
        "\n",
        "2. **Roasting beans** incurs cost depending on the roast level.\n",
        "\n",
        "- Blonde: $4.00/lb\n",
        "\n",
        "- Medium: $4.50/lb\n",
        "\n",
        "- Dark: $5.00/lb\n",
        "\n",
        "  These are illustrative assumptions based on industry norms.\n",
        "\n",
        "3. **Storage Cost**\n",
        "\n",
        "  Stored roasted coffee costs $0.50/lb. This could include warehousing, inventory holding, and spoilage risk.\n",
        "\n",
        "4. **Transportation Cost**\n",
        "\n",
        "  Transportation is modeled as cost per ton-mile. We assume an average distance of 1,000 miles per shipment:\n",
        "\n",
        "- Land: $0.03/ton-mile\n",
        "\n",
        "- Ocean: $0.01/ton-mile\n",
        "\n",
        "- Air: $4.60/ton-mile\n",
        "\n",
        "  Transportation cost is scaled from pounds to tons using a conversion factor (1 ton = 2,000 lbs).\n",
        "\n",
        "**Objective:** Minimize total cost:\n",
        "```\n",
        "Z = 4.4 * aarabica + 2.4 * arobusta\n",
        "  + 4.0 * rblonde + 4.5 * rmedium + 5.0 * rdark\n",
        "  + 0.5 * w\n",
        "  + 0.03 * tland + 0.01 * tocean + 4.6 * tair\n",
        "```\n",
        "\n",
        "By minimizing this cost function, Starbucks can meet product demand while choosing the most cost-effective blend of beans, roast levels, storage strategies, and transport modes — all under realistic constraints."
      ],
      "metadata": {
        "id": "REpTgzieNES2"
      }
    },
    {
      "cell_type": "code",
      "source": [
        "m.setObjective(\n",
        "      cost_green[\"Arabica\"] * aarabica\n",
        "    + cost_green[\"Robusta\"] * arobusta\n",
        "    + cost_roast[\"Blonde\"] * r_blonde\n",
        "    + cost_roast[\"Medium\"] * r_medium\n",
        "    + cost_roast[\"Dark\"]   * r_dark\n",
        "    + cost_storage_per_lb * w\n",
        "    + cost_transport_per_ton_mile[\"Land\"]  * (t_land  / TON_TO_LB) * 1000\n",
        "    + cost_transport_per_ton_mile[\"Ocean\"] * (t_ocean / TON_TO_LB) * 1000\n",
        "    + cost_transport_per_ton_mile[\"Air\"]   * (t_air   / TON_TO_LB) * 1000,\n",
        "    GRB.MINIMIZE\n",
        ")"
      ],
      "metadata": {
        "id": "rH9n6KiXu3Io"
      },
      "execution_count": null,
      "outputs": []
    },
    {
      "cell_type": "markdown",
      "source": [
        "### **Step 6: Constraints**\n",
        "\n",
        "To ensure feasibility and practicality, our optimization model includes several business-driven constraints:"
      ],
      "metadata": {
        "id": "i3ntPDa3N0Sf"
      }
    },
    {
      "cell_type": "markdown",
      "source": [
        "**6.1 Demand Fulfillment**\n",
        "\n",
        "We must satisfy total annual demand:\n",
        "\n",
        "- hot_lbs: must match the demand for hot coffee\n",
        "\n",
        "- cold_lbs: must match the demand for cold coffee\n",
        "\n",
        "These values are calculated from 100M cups × 2.2% lbs per cup and a 75% cold mix assumption."
      ],
      "metadata": {
        "id": "UfjacOD7N8ng"
      }
    },
    {
      "cell_type": "code",
      "source": [
        "m.addConstr(h == hot_lbs,  name=\"Hot_Demand\")\n",
        "m.addConstr(c == cold_lbs, name=\"Cold_Demand\")"
      ],
      "metadata": {
        "colab": {
          "base_uri": "https://localhost:8080/"
        },
        "id": "TpSkJVLIOR5i",
        "outputId": "c34e2553-ec4f-4c9f-89f8-667af550b5cf"
      },
      "execution_count": null,
      "outputs": [
        {
          "output_type": "execute_result",
          "data": {
            "text/plain": [
              "<gurobi.Constr *Awaiting Model Update*>"
            ]
          },
          "metadata": {},
          "execution_count": 107
        }
      ]
    },
    {
      "cell_type": "code",
      "source": [
        "m.addConstr(arabica_hot + arabica_cold == aarabica, name=\"ArabicaUsage\")\n",
        "m.addConstr(robusta_hot + robusta_cold == arobusta, name=\"RobustaUsage\")\n"
      ],
      "metadata": {
        "colab": {
          "base_uri": "https://localhost:8080/"
        },
        "id": "hSK1kC3znC2K",
        "outputId": "f344b06b-8c14-4c56-e52c-f542c657a734"
      },
      "execution_count": null,
      "outputs": [
        {
          "output_type": "execute_result",
          "data": {
            "text/plain": [
              "<gurobi.Constr *Awaiting Model Update*>"
            ]
          },
          "metadata": {},
          "execution_count": 108
        }
      ]
    },
    {
      "cell_type": "code",
      "source": [
        "# Arabica + Robusta must satisfy beverage demand\n",
        "m.addConstr(arabica_hot + robusta_hot == h, name=\"Hot_Blend_Balance\")\n",
        "m.addConstr(arabica_cold + robusta_cold == c, name=\"Cold_Blend_Balance\")\n"
      ],
      "metadata": {
        "colab": {
          "base_uri": "https://localhost:8080/"
        },
        "id": "zh9_PCipj5hA",
        "outputId": "2cb21d4d-f43c-4302-f621-57fbd708e9fd"
      },
      "execution_count": null,
      "outputs": [
        {
          "output_type": "execute_result",
          "data": {
            "text/plain": [
              "<gurobi.Constr *Awaiting Model Update*>"
            ]
          },
          "metadata": {},
          "execution_count": 109
        }
      ]
    },
    {
      "cell_type": "markdown",
      "source": [
        "**6.2 Cold-to-Hot Ratio**\n",
        "\n",
        "As per consumption trends, cold beverages account for 75% of demand, establishing a 3:1 cold-to-hot ratio:\n",
        "\n",
        "c == 3 * h"
      ],
      "metadata": {
        "id": "vA_nSzUFOHCN"
      }
    },
    {
      "cell_type": "code",
      "source": [
        "m.addConstr(c == 3 * h, name=\"Cold_Hot_Ratio\")"
      ],
      "metadata": {
        "colab": {
          "base_uri": "https://localhost:8080/"
        },
        "id": "BrRfL4H2OTZJ",
        "outputId": "8359a313-0e0d-493f-87f2-8043514ad12b"
      },
      "execution_count": null,
      "outputs": [
        {
          "output_type": "execute_result",
          "data": {
            "text/plain": [
              "<gurobi.Constr *Awaiting Model Update*>"
            ]
          },
          "metadata": {},
          "execution_count": 110
        }
      ]
    },
    {
      "cell_type": "markdown",
      "source": [
        "**6.3 Roast Balance**\n",
        "\n",
        "All roasted coffee (blonde, medium, dark) must add up to total consumption (hot + cold):\n",
        "\n",
        "r_blonde + r_medium + r_dark == h + c"
      ],
      "metadata": {
        "id": "OMmm04VpOVKo"
      }
    },
    {
      "cell_type": "code",
      "source": [
        "m.addConstr(r_blonde + r_medium + r_dark == h + c, name=\"Roast_Balance\")"
      ],
      "metadata": {
        "colab": {
          "base_uri": "https://localhost:8080/"
        },
        "id": "W7waVIAOOUxW",
        "outputId": "e9c4ca1e-9d94-45b8-bdd5-b1a4e1ad95b0"
      },
      "execution_count": null,
      "outputs": [
        {
          "output_type": "execute_result",
          "data": {
            "text/plain": [
              "<gurobi.Constr *Awaiting Model Update*>"
            ]
          },
          "metadata": {},
          "execution_count": 111
        }
      ]
    },
    {
      "cell_type": "markdown",
      "source": [
        "**6.4 Bean Balance**\n",
        "\n",
        "The amount of green beans sourced (Arabica + Robusta) must equal the total roasted output:\n",
        "\n",
        "aarabica + arobusta == r_blonde + r_medium + r_dark"
      ],
      "metadata": {
        "id": "Zd6k4653OcVv"
      }
    },
    {
      "cell_type": "code",
      "source": [
        "m.addConstr(aarabica + arobusta == r_blonde + r_medium + r_dark, name=\"Bean_Balance\")"
      ],
      "metadata": {
        "colab": {
          "base_uri": "https://localhost:8080/"
        },
        "id": "HzEo_kDlOhtg",
        "outputId": "8574eb50-129f-4a89-f794-4e4574a2ab79"
      },
      "execution_count": null,
      "outputs": [
        {
          "output_type": "execute_result",
          "data": {
            "text/plain": [
              "<gurobi.Constr *Awaiting Model Update*>"
            ]
          },
          "metadata": {},
          "execution_count": 112
        }
      ]
    },
    {
      "cell_type": "markdown",
      "source": [
        "**6.5 Roast Composition Caps**\n",
        "\n",
        "To maintain product diversity:\n",
        "\n",
        "- Each roast must be ≥10% of the total.\n",
        "\n",
        "- Blonde roast is capped at 30%, reflecting customer preference or flavor profile concerns."
      ],
      "metadata": {
        "id": "K9uTqVwPOka-"
      }
    },
    {
      "cell_type": "code",
      "source": [
        "total_roast = r_blonde + r_medium + r_dark\n",
        "m.addConstr(r_blonde >= min_roast_pct * total_roast, name=\"Blonde_Min\")\n",
        "m.addConstr(r_medium >= min_roast_pct * total_roast, name=\"Medium_Min\")\n",
        "m.addConstr(r_dark   >= min_roast_pct * total_roast, name=\"Dark_Min\")\n",
        "m.addConstr(r_blonde <= max_blonde_pct * total_roast, name=\"Blonde_Max\")"
      ],
      "metadata": {
        "colab": {
          "base_uri": "https://localhost:8080/"
        },
        "id": "ZKd0j5MQOkGH",
        "outputId": "562715a3-d5f2-4f00-b50a-1408d7c79d4a"
      },
      "execution_count": null,
      "outputs": [
        {
          "output_type": "execute_result",
          "data": {
            "text/plain": [
              "<gurobi.Constr *Awaiting Model Update*>"
            ]
          },
          "metadata": {},
          "execution_count": 113
        }
      ]
    },
    {
      "cell_type": "markdown",
      "source": [
        "**6.6 Arabica Quality Requirements**\n",
        "\n",
        "Quality targets by beverage type:\n",
        "\n",
        "- Hot drinks: must contain ≥85% Arabica\n",
        "\n",
        "- Cold drinks: can contain ≤50% Arabica\n",
        "\n",
        "This ensures taste and brand consistency."
      ],
      "metadata": {
        "id": "m3OkQMWoOq8Y"
      }
    },
    {
      "cell_type": "code",
      "source": [
        "m.addConstr(arabica_hot >= min_arabica_hot * h, name=\"Hot_Arabica_Quality\")\n",
        "m.addConstr(arabica_cold <= max_arabica_cold * c, name=\"Cold_Arabica_Quality\")\n"
      ],
      "metadata": {
        "colab": {
          "base_uri": "https://localhost:8080/"
        },
        "id": "k83cskZHOqq8",
        "outputId": "e271d60b-923c-4da2-e47d-bad6a9f27156"
      },
      "execution_count": null,
      "outputs": [
        {
          "output_type": "execute_result",
          "data": {
            "text/plain": [
              "<gurobi.Constr *Awaiting Model Update*>"
            ]
          },
          "metadata": {},
          "execution_count": 114
        }
      ]
    },
    {
      "cell_type": "markdown",
      "source": [
        "**6.7 Caffeine Level Balance**\n",
        "\n",
        "Cups must be assigned to:\n",
        "\n",
        "- Caffeinated (c1), Low-caffeine (c2), Decaf (c3)\n",
        "\n",
        "Also, at least 10% must be low-caf or decaf, to meet market trends and health-conscious consumer preferences."
      ],
      "metadata": {
        "id": "89DhBIUvO2Jn"
      }
    },
    {
      "cell_type": "code",
      "source": [
        "m.addConstr(c1 + c2 + c3 == h + c,                        name=\"CafBalance\")\n",
        "m.addConstr(c2 + c3 >= min_roast_pct * (c1 + c2 + c3),    name=\"LowDecaf_Min\")"
      ],
      "metadata": {
        "colab": {
          "base_uri": "https://localhost:8080/"
        },
        "id": "q3jfkX5XO2qH",
        "outputId": "cd3f0a79-a011-48a7-eadb-e350c3ace30a"
      },
      "execution_count": null,
      "outputs": [
        {
          "output_type": "execute_result",
          "data": {
            "text/plain": [
              "<gurobi.Constr *Awaiting Model Update*>"
            ]
          },
          "metadata": {},
          "execution_count": 115
        }
      ]
    },
    {
      "cell_type": "markdown",
      "source": [
        "**6.8 Origin-Based Arabica Sourcing**\n",
        "\n",
        "To ensure supplier diversity and resilience:\n",
        "\n",
        "- Each origin (Brazil, Colombia, Ethiopia, Vietnam) must contribute ≤40% of total Arabica volume.\n",
        "\n"
      ],
      "metadata": {
        "id": "rmdKti-APCtO"
      }
    },
    {
      "cell_type": "code",
      "source": [
        "m.addConstr(sum(s[o] for o in origins) == aarabica,      name=\"Arabica_Origin_Sum\")\n",
        "for o in origins:\n",
        "    m.addConstr(s[o] <= max_origin_pct * aarabica,       name=f\"OriginCap_{o}\")"
      ],
      "metadata": {
        "id": "d8g5DtKJPG5v"
      },
      "execution_count": null,
      "outputs": []
    },
    {
      "cell_type": "markdown",
      "source": [
        "**6.9 Inventory Storage**\n",
        "\n",
        "To maintain buffer stock:\n",
        "\n",
        "- At least 20% of roasted coffee must go into storage.\n",
        "\n",
        "- Also limited to max capacity (20M lbs)."
      ],
      "metadata": {
        "id": "OnwKKeDOPI3x"
      }
    },
    {
      "cell_type": "code",
      "source": [
        "m.addConstr(w >= 0.20 * (h + c), name=\"Min_Inventory\")\n",
        "m.addConstr(w <= max_storage_lbs,   name=\"Storage_Limit\")"
      ],
      "metadata": {
        "colab": {
          "base_uri": "https://localhost:8080/"
        },
        "id": "8vLlIxm1PNF3",
        "outputId": "8309880f-c0ee-4a50-c903-18250336b06c"
      },
      "execution_count": null,
      "outputs": [
        {
          "output_type": "execute_result",
          "data": {
            "text/plain": [
              "<gurobi.Constr *Awaiting Model Update*>"
            ]
          },
          "metadata": {},
          "execution_count": 117
        }
      ]
    },
    {
      "cell_type": "markdown",
      "source": [
        "**6.10 Transport Logic**\n",
        "\n",
        "- The sum of transport modes (land, ocean, air) must match total green beans sourced.\n",
        "\n",
        "- Total cost must stay under $300M, enforcing budget discipline."
      ],
      "metadata": {
        "id": "4ngI6Fg2PPJ2"
      }
    },
    {
      "cell_type": "code",
      "source": [
        "m.addConstr(t_land + t_ocean + t_air == aarabica + arobusta, name=\"Transport_Balance\")\n",
        "transport_cost = (\n",
        "      cost_transport_per_ton_mile[\"Land\"]  * (t_land  / TON_TO_LB) * 1000\n",
        "    + cost_transport_per_ton_mile[\"Ocean\"] * (t_ocean / TON_TO_LB) * 1000\n",
        "    + cost_transport_per_ton_mile[\"Air\"]   * (t_air   / TON_TO_LB) * 1000\n",
        ")\n",
        "m.addConstr(transport_cost <= max_transport_cost, name=\"Transport_Budget\")"
      ],
      "metadata": {
        "colab": {
          "base_uri": "https://localhost:8080/"
        },
        "id": "XVlyyBLtPWIE",
        "outputId": "63bc3637-3083-41c4-f3bc-107a1ec74d11"
      },
      "execution_count": null,
      "outputs": [
        {
          "output_type": "execute_result",
          "data": {
            "text/plain": [
              "<gurobi.Constr *Awaiting Model Update*>"
            ]
          },
          "metadata": {},
          "execution_count": 118
        }
      ]
    },
    {
      "cell_type": "markdown",
      "source": [
        "**6.11 Minimum Mode Utilization**\n",
        "\n",
        "Each transport method must carry at least 10% of the volume — to ensure supplier flexibility and risk mitigation."
      ],
      "metadata": {
        "id": "mZHsqyU8PUKr"
      }
    },
    {
      "cell_type": "code",
      "source": [
        "total_transport = aarabica + arobusta\n",
        "m.addConstr(t_land  >= 0.10 * total_transport, name=\"Min_Transport_Land\")\n",
        "m.addConstr(t_ocean >= 0.10 * total_transport, name=\"Min_Transport_Ocean\")\n",
        "m.addConstr(t_air   >= 0.10 * total_transport, name=\"Min_Transport_Air\")"
      ],
      "metadata": {
        "colab": {
          "base_uri": "https://localhost:8080/"
        },
        "id": "U1nELNtuu7ew",
        "outputId": "4a646167-435b-45b3-e167-48d411f139ab"
      },
      "execution_count": null,
      "outputs": [
        {
          "output_type": "execute_result",
          "data": {
            "text/plain": [
              "<gurobi.Constr *Awaiting Model Update*>"
            ]
          },
          "metadata": {},
          "execution_count": 119
        }
      ]
    },
    {
      "cell_type": "markdown",
      "source": [
        "### **Step 7: Solve the Model**\n",
        "\n",
        "With the objective function and constraints fully defined, we now invoke the Gurobi solver to find the optimal solution."
      ],
      "metadata": {
        "id": "2ovYT4GOPf2e"
      }
    },
    {
      "cell_type": "code",
      "source": [
        "m.optimize()"
      ],
      "metadata": {
        "id": "FUBVV5OYu9Zf"
      },
      "execution_count": null,
      "outputs": []
    },
    {
      "cell_type": "markdown",
      "source": [
        "### **Step 8: Interpret the Output**\n",
        "\n",
        "**Optimal Cost:** Displays the minimized total cost of coffee production, roasting, storage, and transportation.\n",
        "\n",
        "1. **Demand Split: Hot vs. Cold**\n",
        "\n",
        "  Reports the breakdown of total demand between hot and cold beverage based on fixed assumptions: 75% cold, 25% hot.\n",
        "\n",
        "2. **Bean Blend by Beverage Type**\n",
        "\n",
        "  Details the composition of Arabica vs. Robusta in hot and cold beverages:\n",
        "\n",
        "  Hot drinks are constrained to have ≥85% Arabica.\n",
        "\n",
        "  Cold drinks can have ≤50% Arabica.\n",
        "\n",
        "  We use these thresholds to estimate and report the approximate split of bean types within each beverage category.\n",
        "\n",
        "3. **Overall Bean Sourcing:** Shows the total quantity of Arabica and Robusta sourced and their proportion of total output.\n",
        "\n",
        "4. **Roast Breakdown:** Provides the total amount roasted per roast level (Blonde, Medium, Dark), along with each type's share of the overall volume.\n",
        "\n",
        "5. **Inventory:** Displays the volume stored in inventory and its proportion relative to total roasted volume.\n",
        "\n",
        "  Note: Business rule requires ≥20% inventory at any time.\n",
        "\n",
        "6. **Transportation Mode:** Breakdown of logistics by transportation method (Land, Ocean, Air), including:\n",
        "\n",
        "- Absolute weight transported.\n",
        "\n",
        "- Each mode’s % of total product movement.\n",
        "\n",
        "7. **Origin Mix**\n",
        "\n",
        "  Reports sourcing of Arabica from each origin country (Brazil, Colombia, Ethiopia, Vietnam), both in pounds and as a share of total production.\n",
        "\n",
        "  This is important for compliance with supply diversity limits (no origin >40%)."
      ],
      "metadata": {
        "id": "zv75JudvPp1G"
      }
    },
    {
      "cell_type": "code",
      "source": [
        "if m.status == GRB.OPTIMAL:\n",
        "    total_output = h.x + c.x\n",
        "\n",
        "    print(f\"\\n Optimal cost: ${m.objVal:,.0f}\\n\")\n",
        "\n",
        "    # Hot & Cold breakdown\n",
        "    print(\"Demand split:\")\n",
        "    for var in [h, c]:\n",
        "        pct = var.x / total_output * 100\n",
        "        print(f\"  {var.varName:<12s} = {var.x:,.0f} lbs ({pct:.1f}%)\")\n",
        "\n",
        "    print(\"\\n Hot beverages blend:\")\n",
        "    print(f\"  Arabica_hot  = {arabica_hot.x:,.0f} lbs ({arabica_hot.x / h.x * 100:.1f}%)\")\n",
        "    print(f\"  Robusta_hot  = {robusta_hot.x:,.0f} lbs ({robusta_hot.x / h.x * 100:.1f}%)\")\n",
        "\n",
        "    print(\"\\n Cold beverages blend:\")\n",
        "    print(f\"  Arabica_cold = {arabica_cold.x:,.0f} lbs ({arabica_cold.x / c.x * 100:.1f}%)\")\n",
        "    print(f\"  Robusta_cold = {robusta_cold.x:,.0f} lbs ({robusta_cold.x / c.x * 100:.1f}%)\")\n",
        "\n",
        "\n",
        "    # Beans\n",
        "    print(\"\\nBeans overall:\")\n",
        "    for var in [aarabica, arobusta]:\n",
        "        pct = var.x / total_output * 100\n",
        "        print(f\"  {var.varName:<12s} = {var.x:,.0f} lbs ({pct:.1f}%)\")\n",
        "\n",
        "    # Roast\n",
        "    print(\"\\nRoast:\")\n",
        "    for var in [r_blonde, r_medium, r_dark]:\n",
        "        pct = var.x / total_output * 100\n",
        "        print(f\"  {var.varName:<12s} = {var.x:,.0f} lbs ({pct:.1f}%)\")\n",
        "\n",
        "    # Storage\n",
        "    pct_w = w.x / total_output * 100\n",
        "    print(f\"\\nInventory:       {w.x:,.0f} lbs ({pct_w:.1f}%)\")\n",
        "\n",
        "    # Transport\n",
        "    print(\"\\nTransport:\")\n",
        "    for var in [t_land, t_ocean, t_air]:\n",
        "        pct = var.x / total_output * 100\n",
        "        print(f\"  {var.varName:<12s} = {var.x:,.0f} lbs ({pct:.1f}%)\")\n",
        "\n",
        "    # Origin mix\n",
        "    print(\"\\nOrigin‐mix:\")\n",
        "    for o in origins:\n",
        "        pct = s[o].x / total_output * 100\n",
        "        print(f\"  {o:<10s} = {s[o].x:,.0f} lbs ({pct:.1f}%)\")\n",
        "else:\n",
        "    print(\"⚠️ No optimal solution found.\")\n"
      ],
      "metadata": {
        "colab": {
          "base_uri": "https://localhost:8080/"
        },
        "id": "efxInVYmQiiA",
        "outputId": "12a5ecf8-2eff-466f-b090-6d0b11dddd55"
      },
      "execution_count": null,
      "outputs": [
        {
          "output_type": "stream",
          "name": "stdout",
          "text": [
            "\n",
            " Optimal cost: $16,633,100\n",
            "\n",
            "Demand split:\n",
            "  hot_lbs      = 550,000 lbs (25.0%)\n",
            "  cold_lbs     = 1,650,000 lbs (75.0%)\n",
            "\n",
            " Hot beverages blend:\n",
            "  Arabica_hot  = 467,500 lbs (85.0%)\n",
            "  Robusta_hot  = 82,500 lbs (15.0%)\n",
            "\n",
            " Cold beverages blend:\n",
            "  Arabica_cold = 0 lbs (0.0%)\n",
            "  Robusta_cold = 1,650,000 lbs (100.0%)\n",
            "\n",
            "Beans overall:\n",
            "  aarabica     = 467,500 lbs (21.2%)\n",
            "  arobusta     = 1,732,500 lbs (78.8%)\n",
            "\n",
            "Roast:\n",
            "  r_blonde     = 660,000 lbs (30.0%)\n",
            "  r_medium     = 1,320,000 lbs (60.0%)\n",
            "  r_dark       = 220,000 lbs (10.0%)\n",
            "\n",
            "Inventory:       440,000 lbs (20.0%)\n",
            "\n",
            "Transport:\n",
            "  t_land_lbs   = 220,000 lbs (10.0%)\n",
            "  t_ocean_lbs  = 1,760,000 lbs (80.0%)\n",
            "  t_air_lbs    = 220,000 lbs (10.0%)\n",
            "\n",
            "Origin‐mix:\n",
            "  Brazil     = 187,000 lbs (8.5%)\n",
            "  Colombia   = 187,000 lbs (8.5%)\n",
            "  Ethiopia   = 93,500 lbs (4.2%)\n",
            "  Vietnam    = 0 lbs (0.0%)\n"
          ]
        }
      ]
    },
    {
      "cell_type": "markdown",
      "source": [
        "### **Interpretation of Optimization Results**\n",
        "\n",
        "1. **Optimal Cost: $16,633,100**\n",
        "\n",
        " This represents the total minimum cost to meet Starbucks’ projected annual demand of 100 million cups, including green bean sourcing, roasting, storage, and transportation.\n",
        "\n",
        "2. **Business Implication:**\n",
        "\n",
        "This solution provides a lower-cost scenario by aggressively shifting Robusta use in cold beverages while maintaining Arabica quality in hot drinks. It serves as a cost-optimized strategy that prioritizes cost-efficiency in segments less sensitive to bean origin, offering a compelling trade-off for future cost-saving initiatives.\n",
        "\n",
        "3. **Demand Split**\n",
        "\n",
        "- Hot beverages: 550,000 lbs (25%)\n",
        "\n",
        "- Cold beverages: 1,650,000 lbs (75%)\n",
        "\n",
        "  Reflects Starbucks’ increasing emphasis on cold beverages, aligning with recent consumer trends. Cold products now dominate sales, so sourcing and quality strategies must prioritize this segment.\n",
        "\n",
        "4. **Hot Beverage Blend**\n",
        "- Arabica: 467,500 lbs (85%)\n",
        "\n",
        "- Robusta: 82,500 lbs (15%)\n",
        "\n",
        "  Hot drinks maintain a high Arabica share to preserve Starbucks' premium image and flavor profile, while allowing a small Robusta inclusion to marginally reduce costs without significant quality compromise.\n",
        "\n",
        "5. **Cold Beverage Blend**\n",
        "- Arabica: 0 lbs (0%)\n",
        "\n",
        "- Robusta: 1,650,000 lbs (100%)\n",
        "\n",
        "  Cold beverages use 100% Robusta, reflecting full cost minimization in this segment. Given the dilution and flavor masking in cold drinks, this aggressive shift provides major savings while maintaining customer satisfaction.\n",
        "\n",
        "6. **Bean Sourcing – Overall**\n",
        "\n",
        "- Arabica: 467,500 lbs (21.2%)\n",
        "\n",
        "- Robusta: 1,732,500 lbs (78.8%)\n",
        "\n",
        " This is the most Robusta-heavy strategy among the evaluated scenarios. The model significantly reduces Arabica reliance while staying compliant with hot beverage quality constraints, achieving an optimal cost profile.\n",
        "\n",
        "7. **Roast Mix**\n",
        "\n",
        "- Blonde: 660,000 lbs (30%)\n",
        "\n",
        "- Medium: 1,320,000 lbs (60%)\n",
        "\n",
        "- Dark: 220,000 lbs (10%)\n",
        "\n",
        " Roast mix remains diversified with a focus on medium roast, which appeals to a broad customer base. Blonde is capped at 30%, per constraints, balancing roast variety and operational feasibility.\n",
        "\n",
        "8. **Inventory: 440,000 lbs (20%)**\n",
        "\n",
        "  Meeting the 20% minimum storage target ensures inventory resilience, supports demand variability, and minimizes stockouts during disruptions. It also allows Starbucks to plan roasting and distribution more efficiently.\n",
        "\n",
        "9. **Transport Mix**\n",
        "\n",
        "- Land: 220,000 lbs (10%)\n",
        "\n",
        "- Ocean: 1,760,000 lbs (80%)\n",
        "\n",
        "- Air: 220,000 lbs (10%)\n",
        "\n",
        " Ocean transport dominates due to its low cost. Land and air transport fulfill their 10% minimums, supporting regions with faster delivery needs or limited access, while keeping overall logistics costs in check.\n",
        "\n",
        "10. **Arabica Origin Mix**\n",
        "\n",
        "- Brazil: 187,000 lbs (8.5%)\n",
        "\n",
        "- Colombia: 187,000 lbs (8.5%)\n",
        "\n",
        "- Ethiopia: 93,500 lbs (4.2%)\n",
        "\n",
        "- Vietnam: 0 lbs (0%)\n",
        "\n",
        "  All origin shares stay within the 40% cap to promote supplier diversification. Ethiopia is used in a limited amount, potentially for premium blends. Vietnam is excluded here, likely because Robusta is used for cold drinks and Vietnam-origin Arabica was not prioritized under the current constraints."
      ],
      "metadata": {
        "id": "nOwugmdiQ82t"
      }
    },
    {
      "cell_type": "markdown",
      "source": [
        "# **Business Implications**\n",
        "The optimized model delivers a total cost of $16,633,100 to meet Starbucks' projected annual demand of 100 million cups of coffee. This solution satisfies all sourcing, roast, inventory, and transportation constraints. However, the result reflects the model's current threshold configuration—particularly its loose cold beverage quality constraint—which directly shaped this cost-minimized strategy.\n",
        "\n",
        "### **Strategic Shift to a Blended Sourcing Model**\n",
        "\n",
        "The model employs a highly cost-efficient sourcing strategy:\n",
        "\n",
        "Hot beverages (25% of volume):\n",
        "85% Arabica / 15% Robusta, meeting the minimum Arabica quality requirement.\n",
        "\n",
        "Cold beverages (75% of volume):\n",
        "100% Robusta, due to the absence of a minimum Arabica constraint.\n",
        "\n",
        " Overall bean mix:\n",
        "\n",
        "- Arabica: 467,500 lbs (21.2%)\n",
        "\n",
        "- Robusta: 1,732,500 lbs (78.8%)\n",
        "\n",
        "Interpretation:\n",
        "This is not necessarily the most realistic or consumer-aligned blend—but rather the logical outcome of the model thresholds we imposed. The model simply exploited its freedom to minimize cost, given we allowed Arabica_cold ≥ 0%.\n",
        "\n",
        "**Implication: Our current result is a cost floor—it shows the maximum possible savings if Starbucks fully replaces Arabica in cold beverages. But brand perception, customer tolerance, and taste profiles may require tighter thresholds.**\n",
        "\n",
        "\n",
        "\n",
        "### **Geographic Diversification and Supply Chain Resilience**\n",
        "Arabica sourcing is spread across:\n",
        "\n",
        "- Brazil: 187,000 lbs (8.5%)\n",
        "\n",
        "- Colombia: 187,000 lbs (8.5%)\n",
        "\n",
        "- Ethiopia: 93,500 lbs (4.2%)\n",
        "\n",
        "- Vietnam: 0 lbs\n",
        "\n",
        "All origins comply with the 40% cap, supporting supplier diversification. Ethiopia is minimally used, possibly due to high cost per lb. Vietnam, usually a Robusta source, is not used for Arabica under current model decisions.\n",
        "\n",
        "\n",
        "### **Roast and Inventory Strategy Optimization**\n",
        "Roast allocation:\n",
        "\n",
        "- Medium: 1,320,000 lbs (60%) — the most popular and cost-effective option.\n",
        "\n",
        "- Blonde: 660,000 lbs (30%) — meets the model-imposed maximum.\n",
        "\n",
        "- Dark: 220,000 lbs (10%) — ensures portfolio diversity.\n",
        "\n",
        "Inventory:\n",
        "\n",
        "440,000 lbs stored (20%) to meet minimum reserve requirements, absorb demand fluctuations, and support continuous roasting operations.\n",
        "\n",
        "Implication: Roast and inventory planning align with consumer preferences and ensure supply chain resilience without excessive overhead.\n",
        "\n",
        "### **Transport Efficiency**\n",
        "Transport modes:\n",
        "\n",
        "- Ocean: 1,760,000 lbs (80%) — low-cost, ideal for bulk shipments.\n",
        "\n",
        "- Land: 220,000 lbs (10%)\n",
        "\n",
        "- Air: 220,000 lbs (10%)\n",
        "\n",
        "Ocean freight is prioritized for cost reasons, while land and air meet minimum thresholds for flexibility and coverage.\n",
        "\n",
        "\n",
        "\n",
        "### **Strategic Takeaways**\n",
        "\n",
        "This model shows the maximum savings possible when cold beverage quality constraints are loosened. The results should not be interpreted as the “ideal” business solution, but as a benchmark.\n",
        "\n",
        "Sensitivity analysis on cold Arabica minimums is essential to find a realistic balance between cost and taste. Starbucks could use this result to evaluate the financial impact of raising quality standards back to 10–50% Arabica in cold drinks.\n"
      ],
      "metadata": {
        "id": "1nb9rk3uPAY-"
      }
    },
    {
      "cell_type": "markdown",
      "source": [
        "#Sensitivity Analysis"
      ],
      "metadata": {
        "id": "mgfs-6BtHHK-"
      }
    },
    {
      "cell_type": "code",
      "source": [
        "if m.status == GRB.OPTIMAL:\n",
        "    print(\"\\n🔹 Variable Sensitivity Report\")\n",
        "    print(f\"{'Variable':>25s} {'Value':>12s} {'Reduced Cost':>15s}\")\n",
        "    for v in m.getVars():\n",
        "        print(f\"{v.varName:>25s} {v.x:12,.1f} {v.RC:15,.4f}\")\n",
        "\n",
        "    print(\"\\n🔹 Constraint Sensitivity Report\")\n",
        "    print(f\"{'Constraint':>25s} {'Shadow Price':>15s} {'Slack':>12s}\")\n",
        "    for c in m.getConstrs():\n",
        "        print(f\"{c.ConstrName:>25s} {c.Pi:15,.4f} {c.Slack:12,.1f}\")\n",
        "else:\n",
        "    print(\"⚠️ No optimal solution found.\")\n"
      ],
      "metadata": {
        "colab": {
          "base_uri": "https://localhost:8080/"
        },
        "id": "2ISRON-5uApB",
        "outputId": "3f0f6457-4013-492e-96ae-5b74f5715133"
      },
      "execution_count": null,
      "outputs": [
        {
          "output_type": "stream",
          "name": "stdout",
          "text": [
            "\n",
            "🔹 Variable Sensitivity Report\n",
            "                 Variable        Value    Reduced Cost\n",
            "                 aarabica    467,500.0          0.0000\n",
            "                 arobusta  1,732,500.0          0.0000\n",
            "              arabica_hot    467,500.0          0.0000\n",
            "              robusta_hot     82,500.0          0.0000\n",
            "             arabica_cold          0.0          2.0000\n",
            "             robusta_cold  1,650,000.0          0.0000\n",
            "                 r_blonde    660,000.0          0.0000\n",
            "                 r_medium  1,320,000.0          0.0000\n",
            "                   r_dark    220,000.0          0.0000\n",
            "                  hot_lbs    550,000.0          0.0000\n",
            "                 cold_lbs  1,650,000.0          0.0000\n",
            "                  caf_lbs          0.0          0.0000\n",
            "               lowcaf_lbs  2,200,000.0          0.0000\n",
            "                decaf_lbs          0.0          0.0000\n",
            "                 s_Brazil    187,000.0          0.0000\n",
            "               s_Colombia    187,000.0          0.0000\n",
            "               s_Ethiopia     93,500.0          0.0000\n",
            "                s_Vietnam          0.0          0.0000\n",
            "              storage_lbs    440,000.0          0.0000\n",
            "               t_land_lbs    220,000.0          0.0000\n",
            "              t_ocean_lbs  1,760,000.0          0.0000\n",
            "                t_air_lbs    220,000.0          0.0000\n",
            "\n",
            "🔹 Constraint Sensitivity Report\n",
            "               Constraint    Shadow Price        Slack\n",
            "               Hot_Demand          8.8355          0.0\n",
            "              Cold_Demand          7.1355          0.0\n",
            "             ArabicaUsage         -4.6355          0.0\n",
            "             RobustaUsage         -2.6355          0.0\n",
            "        Hot_Blend_Balance          2.6355          0.0\n",
            "       Cold_Blend_Balance          2.6355          0.0\n",
            "           Cold_Hot_Ratio          0.0000          0.0\n",
            "            Roast_Balance          4.4000          0.0\n",
            "             Bean_Balance          0.0000          0.0\n",
            "               Blonde_Min          0.0000   -440,000.0\n",
            "               Medium_Min          0.0000 -1,100,000.0\n",
            "                 Dark_Min          0.5000          0.0\n",
            "               Blonde_Max         -0.5000          0.0\n",
            "      Hot_Arabica_Quality          2.0000          0.0\n",
            "     Cold_Arabica_Quality          0.0000    825,000.0\n",
            "               CafBalance          0.0000          0.0\n",
            "             LowDecaf_Min          0.0000 -1,980,000.0\n",
            "       Arabica_Origin_Sum          0.0000          0.0\n",
            "         OriginCap_Brazil          0.0000          0.0\n",
            "       OriginCap_Colombia          0.0000          0.0\n",
            "       OriginCap_Ethiopia          0.0000     93,500.0\n",
            "        OriginCap_Vietnam          0.0000    187,000.0\n",
            "            Min_Inventory          0.5000          0.0\n",
            "            Storage_Limit          0.0000 19,560,000.0\n",
            "        Transport_Balance          0.0050          0.0\n",
            "         Transport_Budget          0.0000 299,481,900.0\n",
            "       Min_Transport_Land          0.0100          0.0\n",
            "      Min_Transport_Ocean          0.0000 -1,540,000.0\n",
            "        Min_Transport_Air          2.2950          0.0\n"
          ]
        }
      ]
    },
    {
      "cell_type": "markdown",
      "source": [
        "The sensitivity analysis confirms that Starbucks’ current coffee sourcing and production plan is tightly optimized—many constraints are binding, meaning they are actively limiting the solution and directly impacting cost. The model is operating at the feasible edge of quality, inventory, and logistics trade-offs.\n",
        "\n",
        "**Key Insights**\n",
        "\n",
        "\n",
        "1.    Demand Constraints\n",
        "\n",
        "- Hot_Demand (Shadow Price: 8.8355)\n",
        "  Each additional pound of hot beverage would increase total cost by $8.84, reflecting the high cost of hot blends (mostly Arabica). This constraint is binding, meaning hot demand is being exactly met with no slack.\n",
        "\n",
        "- Cold_Demand (Shadow Price: 7.1355)\n",
        "  Each extra pound of cold beverage increases cost by $7.14—lower than hot drinks due to 100% Robusta usage. This constraint is also tight and fully utilized.\n",
        "\n",
        "2.   Air Transport\n",
        "\n",
        "- Min_Transport_Air (Shadow Price: 2.2950)\n",
        "  Forcing the use of air transport adds $2.30/lb to cost. This mode is costly but necessary to meet the minimum 10% constraint. Any relaxation here would yield cost savings.\n",
        "\n",
        "3.  Roast Composition\n",
        "\n",
        "- Dark_Min (Shadow Price: 0.5000)\n",
        "  The model just meets the minimum dark roast requirement. Adding more would raise cost by $0.50/lb, implying dark roast is relatively more expensive.\n",
        "\n",
        "- Blonde_Max (Shadow Price: -0.5000)\n",
        "  The cap on blonde roast (30%) is binding. If the cap were relaxed, cost could decrease by $0.50/lb, as blonde roast could offer better optimization in the blend.\n",
        "\n",
        "- Medium_Min and Blonde_Min (Slack: large negative)\n",
        "  These minimums are not binding—the model already exceeds these requirements, suggesting the current roast mix aligns well with cost and consumer preference.\n",
        "\n",
        "4. Bean Composition\n",
        "- Arabica_cold (Reduced Cost: 2.0000)\n",
        "  Arabica is currently not used at all in cold drinks. Introducing 1 lb of Arabica_cold would increase total cost by $2.00, indicating a strong cost-saving incentive to keep cold drinks Robusta-only.\n",
        "\n",
        "- Hot_Arabica_Quality (Shadow Price: 2.0000)\n",
        "  The 85% Arabica minimum in hot drinks is binding. Increasing this threshold further would raise costs by $2.00/lb, confirming the model is pushing against quality constraints.\n",
        "\n",
        "5. Inventory\n",
        "- Min_Inventory (Shadow Price: 0.5000)\n",
        "\n",
        "  The 20% inventory requirement increases cost by $0.50/lb, but provides essential supply resilience and demand buffering. A lower threshold could yield small savings but increase operational risk.\n",
        "\n",
        "6. Non-Binding Constraints\n",
        "- Storage_Limit, Transport_Budget, Min_Transport_Ocean\n",
        "These constraints have large slack values and are not currently restrictive. This provides Starbucks with scaling flexibility in transport, warehouse capacity, and future supply changes.\n",
        "\n",
        "- CafBalance, LowDecaf_Min, Arabica_Origin_Sum\n",
        "These constraints are also non-binding, meaning the current solution already satisfies health and sourcing policies without pushing boundaries.\n",
        "\n",
        "The model is finely tuned for cost efficiency within the current rules.\n",
        "If Starbucks wishes to explore more realistic quality thresholds, particularly for cold beverages, it must accept moderate cost increases.\n",
        "Meanwhile, relaxing caps on blonde roast, minimum air transport, or inventory could unlock additional savings."
      ],
      "metadata": {
        "id": "q4hcJVLzvYun"
      }
    },
    {
      "cell_type": "markdown",
      "source": [
        "#Scenario Analysis"
      ],
      "metadata": {
        "id": "KGUueV7rHOF4"
      }
    },
    {
      "cell_type": "code",
      "source": [
        "import pandas as pd\n",
        "\n",
        "# Constants that do not change per scenario\n",
        "cost_roast = {\"Blonde\": 4.00, \"Medium\": 4.50, \"Dark\": 5.00}\n",
        "cost_storage_per_lb = 0.50\n",
        "cost_transport_per_ton_mile = {\"Land\": 0.03, \"Ocean\": 0.01, \"Air\": 4.60}\n",
        "TON_TO_LB = 2000\n",
        "\n",
        "# Demand & roasting assumptions\n",
        "cups_per_year = 100_000_000\n",
        "pct_cold = 0.75\n",
        "avg_lbs_per_cup = 0.022\n",
        "total_lbs = cups_per_year * avg_lbs_per_cup\n",
        "hot_lbs = total_lbs * (1 - pct_cold)\n",
        "cold_lbs = total_lbs * pct_cold\n",
        "\n",
        "# Roast proportions\n",
        "min_roast_pct = 0.10\n",
        "max_blonde_pct = 0.30\n",
        "\n",
        "# Arabica Cold Quality (fixed at 50%)\n",
        "max_arabica_cold = 0.50\n",
        "\n",
        "# Origin and inventory limits\n",
        "origins = [\"Brazil\", \"Colombia\", \"Ethiopia\", \"Vietnam\"]\n",
        "max_origin_pct = 0.40\n",
        "max_storage_lbs = 20_000_000\n",
        "max_transport_cost = 300_000_000\n",
        "\n",
        "# Scenario ranges\n",
        "arabica_prices = [4.40, 5.00, 5.50, 6.00]\n",
        "hot_qual_thresholds = [0.85, 0.80, 0.70, 0.60]\n",
        "\n",
        "results = []\n",
        "\n",
        "# Scenario loop\n",
        "for price in arabica_prices:\n",
        "    for hot_threshold in hot_qual_thresholds:\n",
        "        print(f\"\\n Scenario: Arabica ${price:.2f}/lb | Hot Arabica ≥ {hot_threshold:.0%}\")\n",
        "\n",
        "        # Model setup\n",
        "        m = Model(\"StarbucksScenario\")\n",
        "        m.Params.OutputFlag = 0\n",
        "\n",
        "        # Green bean cost\n",
        "        cost_green = {\"Arabica\": price, \"Robusta\": 2.40}\n",
        "\n",
        "        # Decision variables\n",
        "        aarabica = m.addVar(name=\"aarabica\", lb=0)\n",
        "        arobusta = m.addVar(name=\"arobusta\", lb=0)\n",
        "\n",
        "        arabica_hot  = m.addVar(name=\"arabica_hot\",  lb=0)\n",
        "        robusta_hot  = m.addVar(name=\"robusta_hot\",  lb=0)\n",
        "        arabica_cold = m.addVar(name=\"arabica_cold\", lb=0)\n",
        "        robusta_cold = m.addVar(name=\"robusta_cold\", lb=0)\n",
        "\n",
        "        r_blonde = m.addVar(name=\"r_blonde\", lb=0)\n",
        "        r_medium = m.addVar(name=\"r_medium\", lb=0)\n",
        "        r_dark   = m.addVar(name=\"r_dark\",   lb=0)\n",
        "\n",
        "        h = m.addVar(name=\"hot_lbs\",  lb=0)\n",
        "        c = m.addVar(name=\"cold_lbs\", lb=0)\n",
        "\n",
        "        c1 = m.addVar(name=\"caf_lbs\",    lb=0)\n",
        "        c2 = m.addVar(name=\"lowcaf_lbs\", lb=0)\n",
        "        c3 = m.addVar(name=\"decaf_lbs\",  lb=0)\n",
        "\n",
        "        s = {o: m.addVar(name=f\"s_{o}\", lb=0) for o in origins}\n",
        "\n",
        "        w = m.addVar(name=\"storage_lbs\", lb=0)\n",
        "\n",
        "        t_land  = m.addVar(name=\"t_land_lbs\",  lb=0)\n",
        "        t_ocean = m.addVar(name=\"t_ocean_lbs\", lb=0)\n",
        "        t_air   = m.addVar(name=\"t_air_lbs\",   lb=0)\n",
        "\n",
        "        # Objective function\n",
        "        m.setObjective(\n",
        "              cost_green[\"Arabica\"] * aarabica\n",
        "            + cost_green[\"Robusta\"] * arobusta\n",
        "            + cost_roast[\"Blonde\"] * r_blonde\n",
        "            + cost_roast[\"Medium\"] * r_medium\n",
        "            + cost_roast[\"Dark\"]   * r_dark\n",
        "            + cost_storage_per_lb * w\n",
        "            + cost_transport_per_ton_mile[\"Land\"]  * (t_land  / TON_TO_LB) * 1000\n",
        "            + cost_transport_per_ton_mile[\"Ocean\"] * (t_ocean / TON_TO_LB) * 1000\n",
        "            + cost_transport_per_ton_mile[\"Air\"]   * (t_air   / TON_TO_LB) * 1000,\n",
        "            GRB.MINIMIZE\n",
        "        )\n",
        "\n",
        "        # Constraints\n",
        "        m.addConstr(h == hot_lbs,  name=\"Hot_Demand\")\n",
        "        m.addConstr(c == cold_lbs, name=\"Cold_Demand\")\n",
        "\n",
        "        m.addConstr(arabica_hot + arabica_cold == aarabica)\n",
        "        m.addConstr(robusta_hot + robusta_cold == arobusta)\n",
        "        m.addConstr(arabica_hot + robusta_hot == h)\n",
        "        m.addConstr(arabica_cold + robusta_cold == c)\n",
        "        m.addConstr(c == 3 * h)\n",
        "\n",
        "        m.addConstr(r_blonde + r_medium + r_dark == h + c)\n",
        "        m.addConstr(aarabica + arobusta == r_blonde + r_medium + r_dark)\n",
        "\n",
        "        total_roast = r_blonde + r_medium + r_dark\n",
        "        m.addConstr(r_blonde >= min_roast_pct * total_roast)\n",
        "        m.addConstr(r_medium >= min_roast_pct * total_roast)\n",
        "        m.addConstr(r_dark   >= min_roast_pct * total_roast)\n",
        "        m.addConstr(r_blonde <= max_blonde_pct * total_roast)\n",
        "\n",
        "        # Quality constraints (SCENARIO CONTROLLED)\n",
        "        m.addConstr(arabica_hot  >= hot_threshold * h, name=\"Hot_Arabica_Quality\")\n",
        "        m.addConstr(arabica_cold <= max_arabica_cold * c)\n",
        "\n",
        "        m.addConstr(c1 + c2 + c3 == h + c)\n",
        "        m.addConstr(c2 + c3 >= min_roast_pct * (c1 + c2 + c3))\n",
        "\n",
        "        m.addConstr(sum(s[o] for o in origins) == aarabica)\n",
        "        for o in origins:\n",
        "            m.addConstr(s[o] <= max_origin_pct * aarabica)\n",
        "\n",
        "        m.addConstr(w >= 0.20 * (h + c))\n",
        "        m.addConstr(w <= max_storage_lbs)\n",
        "\n",
        "        m.addConstr(t_land + t_ocean + t_air == aarabica + arobusta)\n",
        "\n",
        "        transport_cost = (\n",
        "              cost_transport_per_ton_mile[\"Land\"]  * (t_land  / TON_TO_LB) * 1000\n",
        "            + cost_transport_per_ton_mile[\"Ocean\"] * (t_ocean / TON_TO_LB) * 1000\n",
        "            + cost_transport_per_ton_mile[\"Air\"]   * (t_air   / TON_TO_LB) * 1000\n",
        "        )\n",
        "        m.addConstr(transport_cost <= max_transport_cost)\n",
        "\n",
        "        total_transport = aarabica + arobusta\n",
        "        m.addConstr(t_land  >= 0.10 * total_transport)\n",
        "        m.addConstr(t_ocean >= 0.10 * total_transport)\n",
        "        m.addConstr(t_air   >= 0.10 * total_transport)\n",
        "\n",
        "        # Solve\n",
        "        m.optimize()\n",
        "\n",
        "        if m.status == GRB.OPTIMAL:\n",
        "            results.append({\n",
        "                \"Arabica Price\": price,\n",
        "                \"Hot Arabica Min %\": hot_threshold,\n",
        "                \"Total Cost\": m.objVal,\n",
        "                \"Arabica (lbs)\": aarabica.x,\n",
        "                \"Robusta (lbs)\": arobusta.x,\n",
        "                \"Arabica Cold %\": arabica_cold.x / c.x if c.x > 0 else 0,\n",
        "                \"Arabica Hot %\": arabica_hot.x / h.x if h.x > 0 else 0,\n",
        "                \"Storage (lbs)\": w.x,\n",
        "                \"T_Land\": t_land.x,\n",
        "                \"T_Ocean\": t_ocean.x,\n",
        "                \"T_Air\": t_air.x\n",
        "            })\n",
        "        else:\n",
        "            print(\"⚠️ Infeasible scenario!\")\n",
        "\n",
        "# Show result table\n",
        "df = pd.DataFrame(results)\n",
        "df"
      ],
      "metadata": {
        "colab": {
          "base_uri": "https://localhost:8080/",
          "height": 1000
        },
        "id": "CnsSOta9nrQY",
        "outputId": "33a55d8b-9ecd-4cac-f265-0ffb095a809b"
      },
      "execution_count": null,
      "outputs": [
        {
          "output_type": "stream",
          "name": "stdout",
          "text": [
            "\n",
            " Scenario: Arabica $4.40/lb | Hot Arabica ≥ 85%\n",
            "\n",
            " Scenario: Arabica $4.40/lb | Hot Arabica ≥ 80%\n",
            "\n",
            " Scenario: Arabica $4.40/lb | Hot Arabica ≥ 70%\n",
            "\n",
            " Scenario: Arabica $4.40/lb | Hot Arabica ≥ 60%\n",
            "\n",
            " Scenario: Arabica $5.00/lb | Hot Arabica ≥ 85%\n",
            "\n",
            " Scenario: Arabica $5.00/lb | Hot Arabica ≥ 80%\n",
            "\n",
            " Scenario: Arabica $5.00/lb | Hot Arabica ≥ 70%\n",
            "\n",
            " Scenario: Arabica $5.00/lb | Hot Arabica ≥ 60%\n",
            "\n",
            " Scenario: Arabica $5.50/lb | Hot Arabica ≥ 85%\n",
            "\n",
            " Scenario: Arabica $5.50/lb | Hot Arabica ≥ 80%\n",
            "\n",
            " Scenario: Arabica $5.50/lb | Hot Arabica ≥ 70%\n",
            "\n",
            " Scenario: Arabica $5.50/lb | Hot Arabica ≥ 60%\n",
            "\n",
            " Scenario: Arabica $6.00/lb | Hot Arabica ≥ 85%\n",
            "\n",
            " Scenario: Arabica $6.00/lb | Hot Arabica ≥ 80%\n",
            "\n",
            " Scenario: Arabica $6.00/lb | Hot Arabica ≥ 70%\n",
            "\n",
            " Scenario: Arabica $6.00/lb | Hot Arabica ≥ 60%\n"
          ]
        },
        {
          "output_type": "execute_result",
          "data": {
            "text/plain": [
              "    Arabica Price  Hot Arabica Min %  Total Cost  Arabica (lbs)  \\\n",
              "0             4.4               0.85  16633100.0       467500.0   \n",
              "1             4.4               0.80  16578100.0       440000.0   \n",
              "2             4.4               0.70  16468100.0       385000.0   \n",
              "3             4.4               0.60  16358100.0       330000.0   \n",
              "4             5.0               0.85  16913600.0       467500.0   \n",
              "5             5.0               0.80  16842100.0       440000.0   \n",
              "6             5.0               0.70  16699100.0       385000.0   \n",
              "7             5.0               0.60  16556100.0       330000.0   \n",
              "8             5.5               0.85  17147350.0       467500.0   \n",
              "9             5.5               0.80  17062100.0       440000.0   \n",
              "10            5.5               0.70  16891600.0       385000.0   \n",
              "11            5.5               0.60  16721100.0       330000.0   \n",
              "12            6.0               0.85  17381100.0       467500.0   \n",
              "13            6.0               0.80  17282100.0       440000.0   \n",
              "14            6.0               0.70  17084100.0       385000.0   \n",
              "15            6.0               0.60  16886100.0       330000.0   \n",
              "\n",
              "    Robusta (lbs)  Arabica Cold %  Arabica Hot %  Storage (lbs)    T_Land  \\\n",
              "0       1732500.0             0.0           0.85       440000.0  220000.0   \n",
              "1       1760000.0             0.0           0.80       440000.0  220000.0   \n",
              "2       1815000.0             0.0           0.70       440000.0  220000.0   \n",
              "3       1870000.0             0.0           0.60       440000.0  220000.0   \n",
              "4       1732500.0             0.0           0.85       440000.0  220000.0   \n",
              "5       1760000.0             0.0           0.80       440000.0  220000.0   \n",
              "6       1815000.0             0.0           0.70       440000.0  220000.0   \n",
              "7       1870000.0             0.0           0.60       440000.0  220000.0   \n",
              "8       1732500.0             0.0           0.85       440000.0  220000.0   \n",
              "9       1760000.0             0.0           0.80       440000.0  220000.0   \n",
              "10      1815000.0             0.0           0.70       440000.0  220000.0   \n",
              "11      1870000.0             0.0           0.60       440000.0  220000.0   \n",
              "12      1732500.0             0.0           0.85       440000.0  220000.0   \n",
              "13      1760000.0             0.0           0.80       440000.0  220000.0   \n",
              "14      1815000.0             0.0           0.70       440000.0  220000.0   \n",
              "15      1870000.0             0.0           0.60       440000.0  220000.0   \n",
              "\n",
              "      T_Ocean     T_Air  \n",
              "0   1760000.0  220000.0  \n",
              "1   1760000.0  220000.0  \n",
              "2   1760000.0  220000.0  \n",
              "3   1760000.0  220000.0  \n",
              "4   1760000.0  220000.0  \n",
              "5   1760000.0  220000.0  \n",
              "6   1760000.0  220000.0  \n",
              "7   1760000.0  220000.0  \n",
              "8   1760000.0  220000.0  \n",
              "9   1760000.0  220000.0  \n",
              "10  1760000.0  220000.0  \n",
              "11  1760000.0  220000.0  \n",
              "12  1760000.0  220000.0  \n",
              "13  1760000.0  220000.0  \n",
              "14  1760000.0  220000.0  \n",
              "15  1760000.0  220000.0  "
            ],
            "text/html": [
              "\n",
              "  <div id=\"df-80f2710d-1c28-4a2e-83a0-b1325867dac0\" class=\"colab-df-container\">\n",
              "    <div>\n",
              "<style scoped>\n",
              "    .dataframe tbody tr th:only-of-type {\n",
              "        vertical-align: middle;\n",
              "    }\n",
              "\n",
              "    .dataframe tbody tr th {\n",
              "        vertical-align: top;\n",
              "    }\n",
              "\n",
              "    .dataframe thead th {\n",
              "        text-align: right;\n",
              "    }\n",
              "</style>\n",
              "<table border=\"1\" class=\"dataframe\">\n",
              "  <thead>\n",
              "    <tr style=\"text-align: right;\">\n",
              "      <th></th>\n",
              "      <th>Arabica Price</th>\n",
              "      <th>Hot Arabica Min %</th>\n",
              "      <th>Total Cost</th>\n",
              "      <th>Arabica (lbs)</th>\n",
              "      <th>Robusta (lbs)</th>\n",
              "      <th>Arabica Cold %</th>\n",
              "      <th>Arabica Hot %</th>\n",
              "      <th>Storage (lbs)</th>\n",
              "      <th>T_Land</th>\n",
              "      <th>T_Ocean</th>\n",
              "      <th>T_Air</th>\n",
              "    </tr>\n",
              "  </thead>\n",
              "  <tbody>\n",
              "    <tr>\n",
              "      <th>0</th>\n",
              "      <td>4.4</td>\n",
              "      <td>0.85</td>\n",
              "      <td>16633100.0</td>\n",
              "      <td>467500.0</td>\n",
              "      <td>1732500.0</td>\n",
              "      <td>0.0</td>\n",
              "      <td>0.85</td>\n",
              "      <td>440000.0</td>\n",
              "      <td>220000.0</td>\n",
              "      <td>1760000.0</td>\n",
              "      <td>220000.0</td>\n",
              "    </tr>\n",
              "    <tr>\n",
              "      <th>1</th>\n",
              "      <td>4.4</td>\n",
              "      <td>0.80</td>\n",
              "      <td>16578100.0</td>\n",
              "      <td>440000.0</td>\n",
              "      <td>1760000.0</td>\n",
              "      <td>0.0</td>\n",
              "      <td>0.80</td>\n",
              "      <td>440000.0</td>\n",
              "      <td>220000.0</td>\n",
              "      <td>1760000.0</td>\n",
              "      <td>220000.0</td>\n",
              "    </tr>\n",
              "    <tr>\n",
              "      <th>2</th>\n",
              "      <td>4.4</td>\n",
              "      <td>0.70</td>\n",
              "      <td>16468100.0</td>\n",
              "      <td>385000.0</td>\n",
              "      <td>1815000.0</td>\n",
              "      <td>0.0</td>\n",
              "      <td>0.70</td>\n",
              "      <td>440000.0</td>\n",
              "      <td>220000.0</td>\n",
              "      <td>1760000.0</td>\n",
              "      <td>220000.0</td>\n",
              "    </tr>\n",
              "    <tr>\n",
              "      <th>3</th>\n",
              "      <td>4.4</td>\n",
              "      <td>0.60</td>\n",
              "      <td>16358100.0</td>\n",
              "      <td>330000.0</td>\n",
              "      <td>1870000.0</td>\n",
              "      <td>0.0</td>\n",
              "      <td>0.60</td>\n",
              "      <td>440000.0</td>\n",
              "      <td>220000.0</td>\n",
              "      <td>1760000.0</td>\n",
              "      <td>220000.0</td>\n",
              "    </tr>\n",
              "    <tr>\n",
              "      <th>4</th>\n",
              "      <td>5.0</td>\n",
              "      <td>0.85</td>\n",
              "      <td>16913600.0</td>\n",
              "      <td>467500.0</td>\n",
              "      <td>1732500.0</td>\n",
              "      <td>0.0</td>\n",
              "      <td>0.85</td>\n",
              "      <td>440000.0</td>\n",
              "      <td>220000.0</td>\n",
              "      <td>1760000.0</td>\n",
              "      <td>220000.0</td>\n",
              "    </tr>\n",
              "    <tr>\n",
              "      <th>5</th>\n",
              "      <td>5.0</td>\n",
              "      <td>0.80</td>\n",
              "      <td>16842100.0</td>\n",
              "      <td>440000.0</td>\n",
              "      <td>1760000.0</td>\n",
              "      <td>0.0</td>\n",
              "      <td>0.80</td>\n",
              "      <td>440000.0</td>\n",
              "      <td>220000.0</td>\n",
              "      <td>1760000.0</td>\n",
              "      <td>220000.0</td>\n",
              "    </tr>\n",
              "    <tr>\n",
              "      <th>6</th>\n",
              "      <td>5.0</td>\n",
              "      <td>0.70</td>\n",
              "      <td>16699100.0</td>\n",
              "      <td>385000.0</td>\n",
              "      <td>1815000.0</td>\n",
              "      <td>0.0</td>\n",
              "      <td>0.70</td>\n",
              "      <td>440000.0</td>\n",
              "      <td>220000.0</td>\n",
              "      <td>1760000.0</td>\n",
              "      <td>220000.0</td>\n",
              "    </tr>\n",
              "    <tr>\n",
              "      <th>7</th>\n",
              "      <td>5.0</td>\n",
              "      <td>0.60</td>\n",
              "      <td>16556100.0</td>\n",
              "      <td>330000.0</td>\n",
              "      <td>1870000.0</td>\n",
              "      <td>0.0</td>\n",
              "      <td>0.60</td>\n",
              "      <td>440000.0</td>\n",
              "      <td>220000.0</td>\n",
              "      <td>1760000.0</td>\n",
              "      <td>220000.0</td>\n",
              "    </tr>\n",
              "    <tr>\n",
              "      <th>8</th>\n",
              "      <td>5.5</td>\n",
              "      <td>0.85</td>\n",
              "      <td>17147350.0</td>\n",
              "      <td>467500.0</td>\n",
              "      <td>1732500.0</td>\n",
              "      <td>0.0</td>\n",
              "      <td>0.85</td>\n",
              "      <td>440000.0</td>\n",
              "      <td>220000.0</td>\n",
              "      <td>1760000.0</td>\n",
              "      <td>220000.0</td>\n",
              "    </tr>\n",
              "    <tr>\n",
              "      <th>9</th>\n",
              "      <td>5.5</td>\n",
              "      <td>0.80</td>\n",
              "      <td>17062100.0</td>\n",
              "      <td>440000.0</td>\n",
              "      <td>1760000.0</td>\n",
              "      <td>0.0</td>\n",
              "      <td>0.80</td>\n",
              "      <td>440000.0</td>\n",
              "      <td>220000.0</td>\n",
              "      <td>1760000.0</td>\n",
              "      <td>220000.0</td>\n",
              "    </tr>\n",
              "    <tr>\n",
              "      <th>10</th>\n",
              "      <td>5.5</td>\n",
              "      <td>0.70</td>\n",
              "      <td>16891600.0</td>\n",
              "      <td>385000.0</td>\n",
              "      <td>1815000.0</td>\n",
              "      <td>0.0</td>\n",
              "      <td>0.70</td>\n",
              "      <td>440000.0</td>\n",
              "      <td>220000.0</td>\n",
              "      <td>1760000.0</td>\n",
              "      <td>220000.0</td>\n",
              "    </tr>\n",
              "    <tr>\n",
              "      <th>11</th>\n",
              "      <td>5.5</td>\n",
              "      <td>0.60</td>\n",
              "      <td>16721100.0</td>\n",
              "      <td>330000.0</td>\n",
              "      <td>1870000.0</td>\n",
              "      <td>0.0</td>\n",
              "      <td>0.60</td>\n",
              "      <td>440000.0</td>\n",
              "      <td>220000.0</td>\n",
              "      <td>1760000.0</td>\n",
              "      <td>220000.0</td>\n",
              "    </tr>\n",
              "    <tr>\n",
              "      <th>12</th>\n",
              "      <td>6.0</td>\n",
              "      <td>0.85</td>\n",
              "      <td>17381100.0</td>\n",
              "      <td>467500.0</td>\n",
              "      <td>1732500.0</td>\n",
              "      <td>0.0</td>\n",
              "      <td>0.85</td>\n",
              "      <td>440000.0</td>\n",
              "      <td>220000.0</td>\n",
              "      <td>1760000.0</td>\n",
              "      <td>220000.0</td>\n",
              "    </tr>\n",
              "    <tr>\n",
              "      <th>13</th>\n",
              "      <td>6.0</td>\n",
              "      <td>0.80</td>\n",
              "      <td>17282100.0</td>\n",
              "      <td>440000.0</td>\n",
              "      <td>1760000.0</td>\n",
              "      <td>0.0</td>\n",
              "      <td>0.80</td>\n",
              "      <td>440000.0</td>\n",
              "      <td>220000.0</td>\n",
              "      <td>1760000.0</td>\n",
              "      <td>220000.0</td>\n",
              "    </tr>\n",
              "    <tr>\n",
              "      <th>14</th>\n",
              "      <td>6.0</td>\n",
              "      <td>0.70</td>\n",
              "      <td>17084100.0</td>\n",
              "      <td>385000.0</td>\n",
              "      <td>1815000.0</td>\n",
              "      <td>0.0</td>\n",
              "      <td>0.70</td>\n",
              "      <td>440000.0</td>\n",
              "      <td>220000.0</td>\n",
              "      <td>1760000.0</td>\n",
              "      <td>220000.0</td>\n",
              "    </tr>\n",
              "    <tr>\n",
              "      <th>15</th>\n",
              "      <td>6.0</td>\n",
              "      <td>0.60</td>\n",
              "      <td>16886100.0</td>\n",
              "      <td>330000.0</td>\n",
              "      <td>1870000.0</td>\n",
              "      <td>0.0</td>\n",
              "      <td>0.60</td>\n",
              "      <td>440000.0</td>\n",
              "      <td>220000.0</td>\n",
              "      <td>1760000.0</td>\n",
              "      <td>220000.0</td>\n",
              "    </tr>\n",
              "  </tbody>\n",
              "</table>\n",
              "</div>\n",
              "    <div class=\"colab-df-buttons\">\n",
              "\n",
              "  <div class=\"colab-df-container\">\n",
              "    <button class=\"colab-df-convert\" onclick=\"convertToInteractive('df-80f2710d-1c28-4a2e-83a0-b1325867dac0')\"\n",
              "            title=\"Convert this dataframe to an interactive table.\"\n",
              "            style=\"display:none;\">\n",
              "\n",
              "  <svg xmlns=\"http://www.w3.org/2000/svg\" height=\"24px\" viewBox=\"0 -960 960 960\">\n",
              "    <path d=\"M120-120v-720h720v720H120Zm60-500h600v-160H180v160Zm220 220h160v-160H400v160Zm0 220h160v-160H400v160ZM180-400h160v-160H180v160Zm440 0h160v-160H620v160ZM180-180h160v-160H180v160Zm440 0h160v-160H620v160Z\"/>\n",
              "  </svg>\n",
              "    </button>\n",
              "\n",
              "  <style>\n",
              "    .colab-df-container {\n",
              "      display:flex;\n",
              "      gap: 12px;\n",
              "    }\n",
              "\n",
              "    .colab-df-convert {\n",
              "      background-color: #E8F0FE;\n",
              "      border: none;\n",
              "      border-radius: 50%;\n",
              "      cursor: pointer;\n",
              "      display: none;\n",
              "      fill: #1967D2;\n",
              "      height: 32px;\n",
              "      padding: 0 0 0 0;\n",
              "      width: 32px;\n",
              "    }\n",
              "\n",
              "    .colab-df-convert:hover {\n",
              "      background-color: #E2EBFA;\n",
              "      box-shadow: 0px 1px 2px rgba(60, 64, 67, 0.3), 0px 1px 3px 1px rgba(60, 64, 67, 0.15);\n",
              "      fill: #174EA6;\n",
              "    }\n",
              "\n",
              "    .colab-df-buttons div {\n",
              "      margin-bottom: 4px;\n",
              "    }\n",
              "\n",
              "    [theme=dark] .colab-df-convert {\n",
              "      background-color: #3B4455;\n",
              "      fill: #D2E3FC;\n",
              "    }\n",
              "\n",
              "    [theme=dark] .colab-df-convert:hover {\n",
              "      background-color: #434B5C;\n",
              "      box-shadow: 0px 1px 3px 1px rgba(0, 0, 0, 0.15);\n",
              "      filter: drop-shadow(0px 1px 2px rgba(0, 0, 0, 0.3));\n",
              "      fill: #FFFFFF;\n",
              "    }\n",
              "  </style>\n",
              "\n",
              "    <script>\n",
              "      const buttonEl =\n",
              "        document.querySelector('#df-80f2710d-1c28-4a2e-83a0-b1325867dac0 button.colab-df-convert');\n",
              "      buttonEl.style.display =\n",
              "        google.colab.kernel.accessAllowed ? 'block' : 'none';\n",
              "\n",
              "      async function convertToInteractive(key) {\n",
              "        const element = document.querySelector('#df-80f2710d-1c28-4a2e-83a0-b1325867dac0');\n",
              "        const dataTable =\n",
              "          await google.colab.kernel.invokeFunction('convertToInteractive',\n",
              "                                                    [key], {});\n",
              "        if (!dataTable) return;\n",
              "\n",
              "        const docLinkHtml = 'Like what you see? Visit the ' +\n",
              "          '<a target=\"_blank\" href=https://colab.research.google.com/notebooks/data_table.ipynb>data table notebook</a>'\n",
              "          + ' to learn more about interactive tables.';\n",
              "        element.innerHTML = '';\n",
              "        dataTable['output_type'] = 'display_data';\n",
              "        await google.colab.output.renderOutput(dataTable, element);\n",
              "        const docLink = document.createElement('div');\n",
              "        docLink.innerHTML = docLinkHtml;\n",
              "        element.appendChild(docLink);\n",
              "      }\n",
              "    </script>\n",
              "  </div>\n",
              "\n",
              "\n",
              "    <div id=\"df-1c340683-d225-4c30-af82-13a29b063cb1\">\n",
              "      <button class=\"colab-df-quickchart\" onclick=\"quickchart('df-1c340683-d225-4c30-af82-13a29b063cb1')\"\n",
              "                title=\"Suggest charts\"\n",
              "                style=\"display:none;\">\n",
              "\n",
              "<svg xmlns=\"http://www.w3.org/2000/svg\" height=\"24px\"viewBox=\"0 0 24 24\"\n",
              "     width=\"24px\">\n",
              "    <g>\n",
              "        <path d=\"M19 3H5c-1.1 0-2 .9-2 2v14c0 1.1.9 2 2 2h14c1.1 0 2-.9 2-2V5c0-1.1-.9-2-2-2zM9 17H7v-7h2v7zm4 0h-2V7h2v10zm4 0h-2v-4h2v4z\"/>\n",
              "    </g>\n",
              "</svg>\n",
              "      </button>\n",
              "\n",
              "<style>\n",
              "  .colab-df-quickchart {\n",
              "      --bg-color: #E8F0FE;\n",
              "      --fill-color: #1967D2;\n",
              "      --hover-bg-color: #E2EBFA;\n",
              "      --hover-fill-color: #174EA6;\n",
              "      --disabled-fill-color: #AAA;\n",
              "      --disabled-bg-color: #DDD;\n",
              "  }\n",
              "\n",
              "  [theme=dark] .colab-df-quickchart {\n",
              "      --bg-color: #3B4455;\n",
              "      --fill-color: #D2E3FC;\n",
              "      --hover-bg-color: #434B5C;\n",
              "      --hover-fill-color: #FFFFFF;\n",
              "      --disabled-bg-color: #3B4455;\n",
              "      --disabled-fill-color: #666;\n",
              "  }\n",
              "\n",
              "  .colab-df-quickchart {\n",
              "    background-color: var(--bg-color);\n",
              "    border: none;\n",
              "    border-radius: 50%;\n",
              "    cursor: pointer;\n",
              "    display: none;\n",
              "    fill: var(--fill-color);\n",
              "    height: 32px;\n",
              "    padding: 0;\n",
              "    width: 32px;\n",
              "  }\n",
              "\n",
              "  .colab-df-quickchart:hover {\n",
              "    background-color: var(--hover-bg-color);\n",
              "    box-shadow: 0 1px 2px rgba(60, 64, 67, 0.3), 0 1px 3px 1px rgba(60, 64, 67, 0.15);\n",
              "    fill: var(--button-hover-fill-color);\n",
              "  }\n",
              "\n",
              "  .colab-df-quickchart-complete:disabled,\n",
              "  .colab-df-quickchart-complete:disabled:hover {\n",
              "    background-color: var(--disabled-bg-color);\n",
              "    fill: var(--disabled-fill-color);\n",
              "    box-shadow: none;\n",
              "  }\n",
              "\n",
              "  .colab-df-spinner {\n",
              "    border: 2px solid var(--fill-color);\n",
              "    border-color: transparent;\n",
              "    border-bottom-color: var(--fill-color);\n",
              "    animation:\n",
              "      spin 1s steps(1) infinite;\n",
              "  }\n",
              "\n",
              "  @keyframes spin {\n",
              "    0% {\n",
              "      border-color: transparent;\n",
              "      border-bottom-color: var(--fill-color);\n",
              "      border-left-color: var(--fill-color);\n",
              "    }\n",
              "    20% {\n",
              "      border-color: transparent;\n",
              "      border-left-color: var(--fill-color);\n",
              "      border-top-color: var(--fill-color);\n",
              "    }\n",
              "    30% {\n",
              "      border-color: transparent;\n",
              "      border-left-color: var(--fill-color);\n",
              "      border-top-color: var(--fill-color);\n",
              "      border-right-color: var(--fill-color);\n",
              "    }\n",
              "    40% {\n",
              "      border-color: transparent;\n",
              "      border-right-color: var(--fill-color);\n",
              "      border-top-color: var(--fill-color);\n",
              "    }\n",
              "    60% {\n",
              "      border-color: transparent;\n",
              "      border-right-color: var(--fill-color);\n",
              "    }\n",
              "    80% {\n",
              "      border-color: transparent;\n",
              "      border-right-color: var(--fill-color);\n",
              "      border-bottom-color: var(--fill-color);\n",
              "    }\n",
              "    90% {\n",
              "      border-color: transparent;\n",
              "      border-bottom-color: var(--fill-color);\n",
              "    }\n",
              "  }\n",
              "</style>\n",
              "\n",
              "      <script>\n",
              "        async function quickchart(key) {\n",
              "          const quickchartButtonEl =\n",
              "            document.querySelector('#' + key + ' button');\n",
              "          quickchartButtonEl.disabled = true;  // To prevent multiple clicks.\n",
              "          quickchartButtonEl.classList.add('colab-df-spinner');\n",
              "          try {\n",
              "            const charts = await google.colab.kernel.invokeFunction(\n",
              "                'suggestCharts', [key], {});\n",
              "          } catch (error) {\n",
              "            console.error('Error during call to suggestCharts:', error);\n",
              "          }\n",
              "          quickchartButtonEl.classList.remove('colab-df-spinner');\n",
              "          quickchartButtonEl.classList.add('colab-df-quickchart-complete');\n",
              "        }\n",
              "        (() => {\n",
              "          let quickchartButtonEl =\n",
              "            document.querySelector('#df-1c340683-d225-4c30-af82-13a29b063cb1 button');\n",
              "          quickchartButtonEl.style.display =\n",
              "            google.colab.kernel.accessAllowed ? 'block' : 'none';\n",
              "        })();\n",
              "      </script>\n",
              "    </div>\n",
              "\n",
              "  <div id=\"id_4a5519a5-d72a-403f-9da4-ce4d2c8d48bc\">\n",
              "    <style>\n",
              "      .colab-df-generate {\n",
              "        background-color: #E8F0FE;\n",
              "        border: none;\n",
              "        border-radius: 50%;\n",
              "        cursor: pointer;\n",
              "        display: none;\n",
              "        fill: #1967D2;\n",
              "        height: 32px;\n",
              "        padding: 0 0 0 0;\n",
              "        width: 32px;\n",
              "      }\n",
              "\n",
              "      .colab-df-generate:hover {\n",
              "        background-color: #E2EBFA;\n",
              "        box-shadow: 0px 1px 2px rgba(60, 64, 67, 0.3), 0px 1px 3px 1px rgba(60, 64, 67, 0.15);\n",
              "        fill: #174EA6;\n",
              "      }\n",
              "\n",
              "      [theme=dark] .colab-df-generate {\n",
              "        background-color: #3B4455;\n",
              "        fill: #D2E3FC;\n",
              "      }\n",
              "\n",
              "      [theme=dark] .colab-df-generate:hover {\n",
              "        background-color: #434B5C;\n",
              "        box-shadow: 0px 1px 3px 1px rgba(0, 0, 0, 0.15);\n",
              "        filter: drop-shadow(0px 1px 2px rgba(0, 0, 0, 0.3));\n",
              "        fill: #FFFFFF;\n",
              "      }\n",
              "    </style>\n",
              "    <button class=\"colab-df-generate\" onclick=\"generateWithVariable('df')\"\n",
              "            title=\"Generate code using this dataframe.\"\n",
              "            style=\"display:none;\">\n",
              "\n",
              "  <svg xmlns=\"http://www.w3.org/2000/svg\" height=\"24px\"viewBox=\"0 0 24 24\"\n",
              "       width=\"24px\">\n",
              "    <path d=\"M7,19H8.4L18.45,9,17,7.55,7,17.6ZM5,21V16.75L18.45,3.32a2,2,0,0,1,2.83,0l1.4,1.43a1.91,1.91,0,0,1,.58,1.4,1.91,1.91,0,0,1-.58,1.4L9.25,21ZM18.45,9,17,7.55Zm-12,3A5.31,5.31,0,0,0,4.9,8.1,5.31,5.31,0,0,0,1,6.5,5.31,5.31,0,0,0,4.9,4.9,5.31,5.31,0,0,0,6.5,1,5.31,5.31,0,0,0,8.1,4.9,5.31,5.31,0,0,0,12,6.5,5.46,5.46,0,0,0,6.5,12Z\"/>\n",
              "  </svg>\n",
              "    </button>\n",
              "    <script>\n",
              "      (() => {\n",
              "      const buttonEl =\n",
              "        document.querySelector('#id_4a5519a5-d72a-403f-9da4-ce4d2c8d48bc button.colab-df-generate');\n",
              "      buttonEl.style.display =\n",
              "        google.colab.kernel.accessAllowed ? 'block' : 'none';\n",
              "\n",
              "      buttonEl.onclick = () => {\n",
              "        google.colab.notebook.generateWithVariable('df');\n",
              "      }\n",
              "      })();\n",
              "    </script>\n",
              "  </div>\n",
              "\n",
              "    </div>\n",
              "  </div>\n"
            ],
            "application/vnd.google.colaboratory.intrinsic+json": {
              "type": "dataframe",
              "variable_name": "df",
              "summary": "{\n  \"name\": \"df\",\n  \"rows\": 16,\n  \"fields\": [\n    {\n      \"column\": \"Arabica Price\",\n      \"properties\": {\n        \"dtype\": \"number\",\n        \"std\": 0.6126445407684077,\n        \"min\": 4.4,\n        \"max\": 6.0,\n        \"num_unique_values\": 4,\n        \"samples\": [\n          5.0,\n          6.0,\n          4.4\n        ],\n        \"semantic_type\": \"\",\n        \"description\": \"\"\n      }\n    },\n    {\n      \"column\": \"Hot Arabica Min %\",\n      \"properties\": {\n        \"dtype\": \"number\",\n        \"std\": 0.09916316520429012,\n        \"min\": 0.6,\n        \"max\": 0.85,\n        \"num_unique_values\": 4,\n        \"samples\": [\n          0.8,\n          0.6,\n          0.85\n        ],\n        \"semantic_type\": \"\",\n        \"description\": \"\"\n      }\n    },\n    {\n      \"column\": \"Total Cost\",\n      \"properties\": {\n        \"dtype\": \"number\",\n        \"std\": 294176.68966045446,\n        \"min\": 16358100.0,\n        \"max\": 17381100.0,\n        \"num_unique_values\": 16,\n        \"samples\": [\n          16633100.0,\n          16578100.0,\n          16842100.0\n        ],\n        \"semantic_type\": \"\",\n        \"description\": \"\"\n      }\n    },\n    {\n      \"column\": \"Arabica (lbs)\",\n      \"properties\": {\n        \"dtype\": \"number\",\n        \"std\": 54539.74086235956,\n        \"min\": 330000.0,\n        \"max\": 467500.0,\n        \"num_unique_values\": 4,\n        \"samples\": [\n          440000.0,\n          330000.0,\n          467500.0\n        ],\n        \"semantic_type\": \"\",\n        \"description\": \"\"\n      }\n    },\n    {\n      \"column\": \"Robusta (lbs)\",\n      \"properties\": {\n        \"dtype\": \"number\",\n        \"std\": 54539.74086235956,\n        \"min\": 1732500.0,\n        \"max\": 1870000.0,\n        \"num_unique_values\": 4,\n        \"samples\": [\n          1760000.0,\n          1870000.0,\n          1732500.0\n        ],\n        \"semantic_type\": \"\",\n        \"description\": \"\"\n      }\n    },\n    {\n      \"column\": \"Arabica Cold %\",\n      \"properties\": {\n        \"dtype\": \"number\",\n        \"std\": 0.0,\n        \"min\": 0.0,\n        \"max\": 0.0,\n        \"num_unique_values\": 1,\n        \"samples\": [\n          0.0\n        ],\n        \"semantic_type\": \"\",\n        \"description\": \"\"\n      }\n    },\n    {\n      \"column\": \"Arabica Hot %\",\n      \"properties\": {\n        \"dtype\": \"number\",\n        \"std\": 0.09916316520429012,\n        \"min\": 0.6,\n        \"max\": 0.85,\n        \"num_unique_values\": 4,\n        \"samples\": [\n          0.8\n        ],\n        \"semantic_type\": \"\",\n        \"description\": \"\"\n      }\n    },\n    {\n      \"column\": \"Storage (lbs)\",\n      \"properties\": {\n        \"dtype\": \"number\",\n        \"std\": 0.0,\n        \"min\": 440000.0,\n        \"max\": 440000.0,\n        \"num_unique_values\": 1,\n        \"samples\": [\n          440000.0\n        ],\n        \"semantic_type\": \"\",\n        \"description\": \"\"\n      }\n    },\n    {\n      \"column\": \"T_Land\",\n      \"properties\": {\n        \"dtype\": \"number\",\n        \"std\": 0.0,\n        \"min\": 220000.0,\n        \"max\": 220000.0,\n        \"num_unique_values\": 1,\n        \"samples\": [\n          220000.0\n        ],\n        \"semantic_type\": \"\",\n        \"description\": \"\"\n      }\n    },\n    {\n      \"column\": \"T_Ocean\",\n      \"properties\": {\n        \"dtype\": \"number\",\n        \"std\": 0.0,\n        \"min\": 1760000.0,\n        \"max\": 1760000.0,\n        \"num_unique_values\": 1,\n        \"samples\": [\n          1760000.0\n        ],\n        \"semantic_type\": \"\",\n        \"description\": \"\"\n      }\n    },\n    {\n      \"column\": \"T_Air\",\n      \"properties\": {\n        \"dtype\": \"number\",\n        \"std\": 0.0,\n        \"min\": 220000.0,\n        \"max\": 220000.0,\n        \"num_unique_values\": 1,\n        \"samples\": [\n          220000.0\n        ],\n        \"semantic_type\": \"\",\n        \"description\": \"\"\n      }\n    }\n  ]\n}"
            }
          },
          "metadata": {},
          "execution_count": 123
        }
      ]
    },
    {
      "cell_type": "markdown",
      "source": [
        "The outcomes in this scenario analysis are heavily influenced by the thresholds we set in the model.\n",
        "\n",
        "- Cold Arabica Cap: This constraint limits how much Arabica can be used in cold beverages. Since Arabica is more expensive, the model uses as little as allowed—often defaulting to 100% Robusta in cold drinks to minimize cost.\n",
        "\n",
        "- Hot Arabica Minimum (e.g., 85%): This forces the model to use a high percentage of Arabica in hot drinks, regardless of price, which drives up total cost when Arabica prices rise.\n",
        "\n",
        "- Fixed logistics constraints: Storage and transport volumes remain constant across all scenarios, so cost variation comes primarily from changes in bean sourcing.\n",
        "\n",
        "**Key Insight**\n",
        "\n",
        "These results don’t necessarily reflect the most realistic or balanced sourcing strategy—they reflect the cheapest possible solution under the current constraints.\n",
        "\n",
        "To get more practical outcomes, Starbucks could adjust quality-related thresholds (like requiring more Arabica in cold drinks) and then re-run the scenarios to understand the cost vs. quality trade-off.\n",
        "\n"
      ],
      "metadata": {
        "id": "RrcdI-bd9RIh"
      }
    },
    {
      "cell_type": "markdown",
      "source": [
        "#Challenges\n",
        "\n",
        "We translated Starbucks’ complex sourcing strategy into a simplified optimization model using public data. Since exact figures (like recipes, costs, and shipping rates) were not available, we estimated them from industry sources, which introduced uncertainty. We also had to carefully set thresholds—for example, requiring 85% Arabica in hot drinks and allowing more Robusta in cold drinks—to balance quality with cost.\n",
        "\n",
        "These thresholds strongly shaped the model: because Arabica is more expensive, the solver minimized its use wherever possible. As a result, the model found the lowest-cost solution—but not necessarily the most realistic one.\n",
        "\n",
        "The model also has limitations:\n",
        "\n",
        "1. Additional rounds of refinement were required to ensure feasibility across multiple scenarios and to interpret shadow prices meaningfully. The current model also has structural limitations:\n",
        "\n",
        "2. Single-period scope: It does not account for seasonality, inventory rollover, or dynamic planning.\n",
        "\n",
        "3. Deterministic inputs: Demand and supply conditions are assumed fixed, without capturing uncertainty.\n",
        "\n",
        "4. No disruption modeling: The model excludes risks like climate events, strikes, or geopolitical shocks.\n",
        "\n",
        "5. Limited product and perishability scope: Only brewed coffee is considered, with no time-decay or shelf-life effects.\n",
        "\n",
        "6. No labor or sustainability metrics: Workforce capacity and carbon emissions are not yet included.\n",
        "\n",
        "Addressing these areas would enhance the model’s realism, robustness, and long-term strategic value.\n",
        "\n",
        "---"
      ],
      "metadata": {
        "id": "iNorAXv7I1Zc"
      }
    },
    {
      "cell_type": "markdown",
      "source": [
        "#Next Steps\n",
        "\n",
        "The model closely follows the thresholds we set. Since Arabica is more expensive, the solver minimized its use whenever possible—especially in cold drinks. This led to the lowest-cost solution, but not necessarily the most realistic or brand-aligned one. Adjusting these thresholds is key to exploring better quality-cost trade-offs.\n",
        "\n",
        "To strengthen and scale the model, we propose the following enhancements:\n",
        "\n",
        "1. **Validate Assumptions with Internal Data**\n",
        "Refine key inputs—such as beverage composition, supplier pricing, and transport costs—using internal Starbucks data. This will improve model accuracy and decision relevance.\n",
        "\n",
        "2. **Incorporate Regional Demand Forecasts**\n",
        "Embedding geographical demand variation would allow optimization of sourcing and roasting strategies by region, enabling more efficient distribution and local responsiveness.\n",
        "\n",
        "3. **Expand Model Scope to Sustainability Metrics**\n",
        "Introduce carbon emissions, ethical sourcing targets, or ESG compliance as additional constraints or objectives. This supports Starbucks' corporate sustainability goals while enhancing decision alignment with long-term values.\n",
        "\n",
        "4. **Leverage Advanced Analytics**\n",
        "Integrate AI-based demand forecasting and supplier scorecards to automate and scale sourcing decisions. This could transform the model into a real-time decision-support tool for procurement and operations.\n",
        "\n",
        "5. **Extend to Multi-Period and Stochastic Planning**\n",
        "Moving from a static, annual model to a dynamic, multi-period framework would capture seasonality, inventory rollover, and contract lead times.\n",
        "Adding stochastic elements (e.g., demand uncertainty, supply disruptions) would improve resilience and strategic foresight.\n",
        "\n",
        "\n",
        "\n",
        "---"
      ],
      "metadata": {
        "id": "1oFEba8oIy8J"
      }
    },
    {
      "cell_type": "markdown",
      "source": [
        "# **References**\n",
        "\n",
        "1. Global Coffee Market Volatility: Lens on Supply Chain Disruption, January 2025\n",
        "\n",
        "  https://www.chemanalyst.com/NewsAndDeals/NewsDetails/global-coffee-market-volatility-lens-on-supply-chain-disruption-35031\n",
        "\n",
        "2. Direct Trade Sourcing Strategies for Specialty Coffee, May 2024, Kazaz, B. et al.\n",
        "\n",
        "  https://pubsonline.informs.org/doi/abs/10.1287/msom.2021.0586?af=R\n",
        "\n",
        "3. Designing an Efficient Supply Chain for Specialty Coffee from Caldas-Colombia, May 2020, Botero Lopez, S., & Chaudhry, M. S.\n",
        "\n",
        "  https://dspace.mit.edu/handle/1721.1/126376\n",
        "\n",
        "4. Making the Perfect Cold Brew Coffee, April 2022\n",
        "\n",
        "  https://www.elgalabwater.com/blog/making-perfect-cold-brew-coffee\n",
        "\n",
        "---"
      ],
      "metadata": {
        "id": "W7rxYKMjDPLN"
      }
    },
    {
      "cell_type": "markdown",
      "source": [
        "#GenAI Use\n",
        "\n",
        "In this project, we used generative AI tools to support various aspects of our work. Below is a detailed account of how these tools were used:\n",
        "\n",
        "* **Code Review and Debugging**: We used ChatGPT (GPT-4o) to improve our linear programming model, resolve coding issues, and add components for scenario analysis. It was especially helpful in writing clean code and making sure our model aligned with business logic.\n",
        "\n",
        "* **Brainstorming Ideas**: ChatGPT assisted us in generating and refining ideas for our overall project structure, constraints, and what-if scenarios. It helped us think through trade-offs and make our approach more focused and effective.\n",
        "\n",
        "* **Proofreading and Grammar Checks**: We used Grammarly to enhance the clarity, readability, and grammatical accuracy of our written content, including slides and final documentation.\n",
        "\n",
        "Our team followed academic integrity guidelines throughout the process, carefully reviewing and validating all AI-generated content to ensure its accuracy and relevance.\n",
        "\n",
        "---"
      ],
      "metadata": {
        "id": "zYOR-FvTHPoE"
      }
    }
  ]
}